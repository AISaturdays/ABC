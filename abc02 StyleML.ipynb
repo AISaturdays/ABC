{
 "cells": [
  {
   "cell_type": "markdown",
   "metadata": {},
   "source": [
    "## Recognizing Styles of Brands and Products  \n",
    "'Style' data set by Olga Belitskaya hosted at Kaggle.com on 8 March 2018; wget https://www.kaggle.com/olgabelitskaya/style-color-images/downloads/style-color-images.zip "
   ]
  },
  {
   "cell_type": "code",
   "execution_count": 1,
   "metadata": {},
   "outputs": [],
   "source": [
    "%reload_ext autoreload  \n",
    "%autoreload 2 \n",
    "%matplotlib inline  "
   ]
  },
  {
   "cell_type": "code",
   "execution_count": 2,
   "metadata": {},
   "outputs": [],
   "source": [
    "from fastai.imports import *  "
   ]
  },
  {
   "cell_type": "code",
   "execution_count": 3,
   "metadata": {},
   "outputs": [],
   "source": [
    "from fastai.conv_learner import *  \n",
    "from fastai.plots import *  \n",
    "from fastai.transforms import *  \n",
    "from fastai.model import *  \n",
    "from fastai.dataset import *  \n",
    "from fastai.sgdr import *  \n",
    "from planet import f2  "
   ]
  },
  {
   "cell_type": "code",
   "execution_count": 4,
   "metadata": {},
   "outputs": [
    {
     "data": {
      "text/plain": [
       "True"
      ]
     },
     "execution_count": 4,
     "metadata": {},
     "output_type": "execute_result"
    }
   ],
   "source": [
    "torch.cuda.is_available()  "
   ]
  },
  {
   "cell_type": "code",
   "execution_count": 5,
   "metadata": {},
   "outputs": [
    {
     "data": {
      "text/plain": [
       "True"
      ]
     },
     "execution_count": 5,
     "metadata": {},
     "output_type": "execute_result"
    }
   ],
   "source": [
    "torch.backends.cudnn.enabled  "
   ]
  },
  {
   "cell_type": "markdown",
   "metadata": {},
   "source": [
    "### 1. Data Augmentation  "
   ]
  },
  {
   "cell_type": "code",
   "execution_count": 6,
   "metadata": {},
   "outputs": [
    {
     "data": {
      "text/plain": [
       "['models',\n",
       " 'o1tmp1',\n",
       " 'StyleColorImages.h5',\n",
       " 'train894',\n",
       " 'style.zip',\n",
       " 'o1tmp2',\n",
       " 'styletags.csv',\n",
       " 'stylebp.csv',\n",
       " 'o1tmp',\n",
       " 'styleproduct.csv',\n",
       " 'test0',\n",
       " '.ipynb_checkpoints',\n",
       " 'styletag.csv',\n",
       " 'stylebrand.csv',\n",
       " 'o2tmp1ML',\n",
       " 'style.csv']"
      ]
     },
     "execution_count": 6,
     "metadata": {},
     "output_type": "execute_result"
    }
   ],
   "source": [
    "PATH = \"data/style/\"  \n",
    "os.listdir(PATH)  "
   ]
  },
  {
   "cell_type": "code",
   "execution_count": 7,
   "metadata": {},
   "outputs": [
    {
     "data": {
      "text/plain": [
       "['2_1_006.png', '2_2_002.png', '2_0_011.png', '5_2_030.png', '2_5_003.png']"
      ]
     },
     "execution_count": 7,
     "metadata": {},
     "output_type": "execute_result"
    }
   ],
   "source": [
    "PATH2 = \"data/style/train894/\"\n",
    "os.listdir(f'{PATH2}')[:5]  "
   ]
  },
  {
   "cell_type": "code",
   "execution_count": 8,
   "metadata": {},
   "outputs": [
    {
     "data": {
      "text/plain": [
       "897"
      ]
     },
     "execution_count": 8,
     "metadata": {},
     "output_type": "execute_result"
    }
   ],
   "source": [
    "len(os.listdir(f'{PATH2}'))  "
   ]
  },
  {
   "cell_type": "code",
   "execution_count": 9,
   "metadata": {},
   "outputs": [
    {
     "data": {
      "text/plain": [
       "894"
      ]
     },
     "execution_count": 9,
     "metadata": {},
     "output_type": "execute_result"
    }
   ],
   "source": [
    "label_csv = f'{PATH}styletag.csv'  \n",
    "n = len(list(open(label_csv)))-1  \n",
    "val_idxs = get_cv_idxs(n)  \n",
    "n  "
   ]
  },
  {
   "cell_type": "code",
   "execution_count": 10,
   "metadata": {},
   "outputs": [
    {
     "data": {
      "text/plain": [
       "178"
      ]
     },
     "execution_count": 10,
     "metadata": {},
     "output_type": "execute_result"
    }
   ],
   "source": [
    "len(val_idxs)  "
   ]
  },
  {
   "cell_type": "code",
   "execution_count": 11,
   "metadata": {},
   "outputs": [
    {
     "data": {
      "text/html": [
       "<div>\n",
       "<style scoped>\n",
       "    .dataframe tbody tr th:only-of-type {\n",
       "        vertical-align: middle;\n",
       "    }\n",
       "\n",
       "    .dataframe tbody tr th {\n",
       "        vertical-align: top;\n",
       "    }\n",
       "\n",
       "    .dataframe thead th {\n",
       "        text-align: right;\n",
       "    }\n",
       "</style>\n",
       "<table border=\"1\" class=\"dataframe\">\n",
       "  <thead>\n",
       "    <tr style=\"text-align: right;\">\n",
       "      <th></th>\n",
       "      <th>file</th>\n",
       "      <th>tag</th>\n",
       "    </tr>\n",
       "  </thead>\n",
       "  <tbody>\n",
       "    <tr>\n",
       "      <th>0</th>\n",
       "      <td>0_0_001.png</td>\n",
       "      <td>Christian Louboutin shoes</td>\n",
       "    </tr>\n",
       "    <tr>\n",
       "      <th>1</th>\n",
       "      <td>0_0_002.png</td>\n",
       "      <td>Christian Louboutin shoes</td>\n",
       "    </tr>\n",
       "    <tr>\n",
       "      <th>2</th>\n",
       "      <td>0_0_003.png</td>\n",
       "      <td>Christian Louboutin shoes</td>\n",
       "    </tr>\n",
       "    <tr>\n",
       "      <th>3</th>\n",
       "      <td>0_0_004.png</td>\n",
       "      <td>Christian Louboutin shoes</td>\n",
       "    </tr>\n",
       "    <tr>\n",
       "      <th>4</th>\n",
       "      <td>0_0_005.png</td>\n",
       "      <td>Christian Louboutin shoes</td>\n",
       "    </tr>\n",
       "  </tbody>\n",
       "</table>\n",
       "</div>"
      ],
      "text/plain": [
       "          file                        tag\n",
       "0  0_0_001.png  Christian Louboutin shoes\n",
       "1  0_0_002.png  Christian Louboutin shoes\n",
       "2  0_0_003.png  Christian Louboutin shoes\n",
       "3  0_0_004.png  Christian Louboutin shoes\n",
       "4  0_0_005.png  Christian Louboutin shoes"
      ]
     },
     "execution_count": 11,
     "metadata": {},
     "output_type": "execute_result"
    }
   ],
   "source": [
    "label_df = pd.read_csv(label_csv)  \n",
    "label_df.head()  "
   ]
  },
  {
   "cell_type": "code",
   "execution_count": 12,
   "metadata": {},
   "outputs": [
    {
     "data": {
      "text/html": [
       "<div>\n",
       "<style scoped>\n",
       "    .dataframe tbody tr th:only-of-type {\n",
       "        vertical-align: middle;\n",
       "    }\n",
       "\n",
       "    .dataframe tbody tr th {\n",
       "        vertical-align: top;\n",
       "    }\n",
       "\n",
       "    .dataframe thead th {\n",
       "        text-align: right;\n",
       "    }\n",
       "</style>\n",
       "<table border=\"1\" class=\"dataframe\">\n",
       "  <thead>\n",
       "    <tr style=\"text-align: right;\">\n",
       "      <th></th>\n",
       "      <th>file</th>\n",
       "    </tr>\n",
       "    <tr>\n",
       "      <th>tag</th>\n",
       "      <th></th>\n",
       "    </tr>\n",
       "  </thead>\n",
       "  <tbody>\n",
       "    <tr>\n",
       "      <th>Gucci nail polish</th>\n",
       "      <td>2</td>\n",
       "    </tr>\n",
       "    <tr>\n",
       "      <th>Gucci lipstick</th>\n",
       "      <td>2</td>\n",
       "    </tr>\n",
       "    <tr>\n",
       "      <th>Yves Saint Laurent bracelet</th>\n",
       "      <td>3</td>\n",
       "    </tr>\n",
       "    <tr>\n",
       "      <th>Dolce &amp; Gabbana ring</th>\n",
       "      <td>3</td>\n",
       "    </tr>\n",
       "    <tr>\n",
       "      <th>Yves Saint Laurent ring</th>\n",
       "      <td>3</td>\n",
       "    </tr>\n",
       "    <tr>\n",
       "      <th>Yves Saint Laurent necklace</th>\n",
       "      <td>4</td>\n",
       "    </tr>\n",
       "    <tr>\n",
       "      <th>Dolce &amp; Gabbana necklace</th>\n",
       "      <td>4</td>\n",
       "    </tr>\n",
       "    <tr>\n",
       "      <th>Dolce &amp; Gabbana bracelet</th>\n",
       "      <td>4</td>\n",
       "    </tr>\n",
       "    <tr>\n",
       "      <th>Versace necklace</th>\n",
       "      <td>5</td>\n",
       "    </tr>\n",
       "    <tr>\n",
       "      <th>Versace bracelet</th>\n",
       "      <td>5</td>\n",
       "    </tr>\n",
       "    <tr>\n",
       "      <th>Versace boots</th>\n",
       "      <td>5</td>\n",
       "    </tr>\n",
       "    <tr>\n",
       "      <th>Gucci boots</th>\n",
       "      <td>5</td>\n",
       "    </tr>\n",
       "    <tr>\n",
       "      <th>Dolce &amp; Gabbana watches</th>\n",
       "      <td>5</td>\n",
       "    </tr>\n",
       "    <tr>\n",
       "      <th>Chanel boots</th>\n",
       "      <td>6</td>\n",
       "    </tr>\n",
       "    <tr>\n",
       "      <th>Dolce &amp; Gabbana lipstick</th>\n",
       "      <td>6</td>\n",
       "    </tr>\n",
       "    <tr>\n",
       "      <th>Dolce &amp; Gabbana boots</th>\n",
       "      <td>6</td>\n",
       "    </tr>\n",
       "    <tr>\n",
       "      <th>Dolce &amp; Gabbana nail polish</th>\n",
       "      <td>6</td>\n",
       "    </tr>\n",
       "    <tr>\n",
       "      <th>Chanel nail polish</th>\n",
       "      <td>7</td>\n",
       "    </tr>\n",
       "    <tr>\n",
       "      <th>Yves Saint Laurent earrings</th>\n",
       "      <td>7</td>\n",
       "    </tr>\n",
       "    <tr>\n",
       "      <th>Versace earrings</th>\n",
       "      <td>9</td>\n",
       "    </tr>\n",
       "    <tr>\n",
       "      <th>Christian Dior nail polish</th>\n",
       "      <td>9</td>\n",
       "    </tr>\n",
       "    <tr>\n",
       "      <th>Yves Saint Laurent boots</th>\n",
       "      <td>9</td>\n",
       "    </tr>\n",
       "    <tr>\n",
       "      <th>Chanel bracelet</th>\n",
       "      <td>10</td>\n",
       "    </tr>\n",
       "    <tr>\n",
       "      <th>Gucci watches</th>\n",
       "      <td>10</td>\n",
       "    </tr>\n",
       "    <tr>\n",
       "      <th>Gucci necklace</th>\n",
       "      <td>10</td>\n",
       "    </tr>\n",
       "    <tr>\n",
       "      <th>Christian Louboutin lipstick</th>\n",
       "      <td>10</td>\n",
       "    </tr>\n",
       "    <tr>\n",
       "      <th>Christian Dior necklace</th>\n",
       "      <td>10</td>\n",
       "    </tr>\n",
       "    <tr>\n",
       "      <th>Versace watches</th>\n",
       "      <td>10</td>\n",
       "    </tr>\n",
       "    <tr>\n",
       "      <th>Christian Dior earrings</th>\n",
       "      <td>10</td>\n",
       "    </tr>\n",
       "    <tr>\n",
       "      <th>Gucci earrings</th>\n",
       "      <td>11</td>\n",
       "    </tr>\n",
       "    <tr>\n",
       "      <th>...</th>\n",
       "      <td>...</td>\n",
       "    </tr>\n",
       "    <tr>\n",
       "      <th>Christian Dior bracelet</th>\n",
       "      <td>12</td>\n",
       "    </tr>\n",
       "    <tr>\n",
       "      <th>Versace ring</th>\n",
       "      <td>12</td>\n",
       "    </tr>\n",
       "    <tr>\n",
       "      <th>Christian Louboutin handbag</th>\n",
       "      <td>12</td>\n",
       "    </tr>\n",
       "    <tr>\n",
       "      <th>Christian Dior lipstick</th>\n",
       "      <td>12</td>\n",
       "    </tr>\n",
       "    <tr>\n",
       "      <th>Chanel shoes</th>\n",
       "      <td>14</td>\n",
       "    </tr>\n",
       "    <tr>\n",
       "      <th>Chanel necklace</th>\n",
       "      <td>15</td>\n",
       "    </tr>\n",
       "    <tr>\n",
       "      <th>Yves Saint Laurent nail polish</th>\n",
       "      <td>15</td>\n",
       "    </tr>\n",
       "    <tr>\n",
       "      <th>Gucci bracelet</th>\n",
       "      <td>15</td>\n",
       "    </tr>\n",
       "    <tr>\n",
       "      <th>Chanel earrings</th>\n",
       "      <td>15</td>\n",
       "    </tr>\n",
       "    <tr>\n",
       "      <th>Chanel lipstick</th>\n",
       "      <td>15</td>\n",
       "    </tr>\n",
       "    <tr>\n",
       "      <th>Yves Saint Laurent shoes</th>\n",
       "      <td>15</td>\n",
       "    </tr>\n",
       "    <tr>\n",
       "      <th>Christian Louboutin boots</th>\n",
       "      <td>18</td>\n",
       "    </tr>\n",
       "    <tr>\n",
       "      <th>Versace shoes</th>\n",
       "      <td>19</td>\n",
       "    </tr>\n",
       "    <tr>\n",
       "      <th>Dolce &amp; Gabbana handbag</th>\n",
       "      <td>21</td>\n",
       "    </tr>\n",
       "    <tr>\n",
       "      <th>Christian Dior shoes</th>\n",
       "      <td>21</td>\n",
       "    </tr>\n",
       "    <tr>\n",
       "      <th>Yves Saint Laurent lipstick</th>\n",
       "      <td>21</td>\n",
       "    </tr>\n",
       "    <tr>\n",
       "      <th>Christian Dior ring</th>\n",
       "      <td>22</td>\n",
       "    </tr>\n",
       "    <tr>\n",
       "      <th>Christian Louboutin nail polish</th>\n",
       "      <td>22</td>\n",
       "    </tr>\n",
       "    <tr>\n",
       "      <th>Chanel ring</th>\n",
       "      <td>22</td>\n",
       "    </tr>\n",
       "    <tr>\n",
       "      <th>Chanel watches</th>\n",
       "      <td>24</td>\n",
       "    </tr>\n",
       "    <tr>\n",
       "      <th>Gucci ring</th>\n",
       "      <td>26</td>\n",
       "    </tr>\n",
       "    <tr>\n",
       "      <th>Yves Saint Laurent handbag</th>\n",
       "      <td>26</td>\n",
       "    </tr>\n",
       "    <tr>\n",
       "      <th>Gucci handbag</th>\n",
       "      <td>27</td>\n",
       "    </tr>\n",
       "    <tr>\n",
       "      <th>Christian Dior watches</th>\n",
       "      <td>29</td>\n",
       "    </tr>\n",
       "    <tr>\n",
       "      <th>Gucci shoes</th>\n",
       "      <td>30</td>\n",
       "    </tr>\n",
       "    <tr>\n",
       "      <th>Dolce &amp; Gabbana shoes</th>\n",
       "      <td>33</td>\n",
       "    </tr>\n",
       "    <tr>\n",
       "      <th>Christian Dior handbag</th>\n",
       "      <td>33</td>\n",
       "    </tr>\n",
       "    <tr>\n",
       "      <th>Chanel handbag</th>\n",
       "      <td>35</td>\n",
       "    </tr>\n",
       "    <tr>\n",
       "      <th>Versace handbag</th>\n",
       "      <td>39</td>\n",
       "    </tr>\n",
       "    <tr>\n",
       "      <th>Christian Louboutin shoes</th>\n",
       "      <td>56</td>\n",
       "    </tr>\n",
       "  </tbody>\n",
       "</table>\n",
       "<p>62 rows × 1 columns</p>\n",
       "</div>"
      ],
      "text/plain": [
       "                                 file\n",
       "tag                                  \n",
       "Gucci nail polish                   2\n",
       "Gucci lipstick                      2\n",
       "Yves Saint Laurent bracelet         3\n",
       "Dolce & Gabbana ring                3\n",
       "Yves Saint Laurent ring             3\n",
       "Yves Saint Laurent necklace         4\n",
       "Dolce & Gabbana necklace            4\n",
       "Dolce & Gabbana bracelet            4\n",
       "Versace necklace                    5\n",
       "Versace bracelet                    5\n",
       "Versace boots                       5\n",
       "Gucci boots                         5\n",
       "Dolce & Gabbana watches             5\n",
       "Chanel boots                        6\n",
       "Dolce & Gabbana lipstick            6\n",
       "Dolce & Gabbana boots               6\n",
       "Dolce & Gabbana nail polish         6\n",
       "Chanel nail polish                  7\n",
       "Yves Saint Laurent earrings         7\n",
       "Versace earrings                    9\n",
       "Christian Dior nail polish          9\n",
       "Yves Saint Laurent boots            9\n",
       "Chanel bracelet                    10\n",
       "Gucci watches                      10\n",
       "Gucci necklace                     10\n",
       "Christian Louboutin lipstick       10\n",
       "Christian Dior necklace            10\n",
       "Versace watches                    10\n",
       "Christian Dior earrings            10\n",
       "Gucci earrings                     11\n",
       "...                               ...\n",
       "Christian Dior bracelet            12\n",
       "Versace ring                       12\n",
       "Christian Louboutin handbag        12\n",
       "Christian Dior lipstick            12\n",
       "Chanel shoes                       14\n",
       "Chanel necklace                    15\n",
       "Yves Saint Laurent nail polish     15\n",
       "Gucci bracelet                     15\n",
       "Chanel earrings                    15\n",
       "Chanel lipstick                    15\n",
       "Yves Saint Laurent shoes           15\n",
       "Christian Louboutin boots          18\n",
       "Versace shoes                      19\n",
       "Dolce & Gabbana handbag            21\n",
       "Christian Dior shoes               21\n",
       "Yves Saint Laurent lipstick        21\n",
       "Christian Dior ring                22\n",
       "Christian Louboutin nail polish    22\n",
       "Chanel ring                        22\n",
       "Chanel watches                     24\n",
       "Gucci ring                         26\n",
       "Yves Saint Laurent handbag         26\n",
       "Gucci handbag                      27\n",
       "Christian Dior watches             29\n",
       "Gucci shoes                        30\n",
       "Dolce & Gabbana shoes              33\n",
       "Christian Dior handbag             33\n",
       "Chanel handbag                     35\n",
       "Versace handbag                    39\n",
       "Christian Louboutin shoes          56\n",
       "\n",
       "[62 rows x 1 columns]"
      ]
     },
     "execution_count": 12,
     "metadata": {},
     "output_type": "execute_result"
    }
   ],
   "source": [
    "label_df.pivot_table(index='tag', aggfunc=len). sort_values('file', ascending=True) "
   ]
  },
  {
   "cell_type": "code",
   "execution_count": 13,
   "metadata": {},
   "outputs": [
    {
     "data": {
      "image/png": "[encoded data removed]",
      "text/plain": [
       "<Figure size 720x360 with 2 Axes>"
      ]
     },
     "metadata": {},
     "output_type": "display_data"
    }
   ],
   "source": [
    "list_paths = [f\"{PATH2}1_2_008.png\", f\"{PATH2}5_8_003.png\"]  \n",
    "titles=[\"Chanel, handbag\", \"Versace, boots\"]  \n",
    "plots_from_files(list_paths, titles=titles, maintitle=\"Multi-label classification\")  "
   ]
  },
  {
   "cell_type": "code",
   "execution_count": 14,
   "metadata": {},
   "outputs": [],
   "source": [
    "bs=8  \n",
    "sz=64  \n",
    "m_zoom=1.07 \n",
    "metrics=[f2]  \n",
    "f_model = resnet50    "
   ]
  },
  {
   "cell_type": "code",
   "execution_count": 15,
   "metadata": {},
   "outputs": [],
   "source": [
    "def get_data(sz): \n",
    "        tfms = tfms_from_model(f_model, sz, aug_tfms=transforms_side_on, max_zoom=m_zoom)\n",
    "        return ImageClassifierData.from_csv(PATH, 'train894', label_csv, tfms=tfms, val_idxs=val_idxs, bs=bs)"
   ]
  },
  {
   "cell_type": "code",
   "execution_count": 16,
   "metadata": {},
   "outputs": [],
   "source": [
    "data = get_data(sz)  "
   ]
  },
  {
   "cell_type": "code",
   "execution_count": 17,
   "metadata": {},
   "outputs": [
    {
     "data": {
      "text/plain": [
       "716"
      ]
     },
     "execution_count": 17,
     "metadata": {},
     "output_type": "execute_result"
    }
   ],
   "source": [
    "sz_trn = len(data.trn_ds); sz_trn "
   ]
  },
  {
   "cell_type": "code",
   "execution_count": 18,
   "metadata": {},
   "outputs": [
    {
     "data": {
      "text/plain": [
       "(array([150, 150, 150, 150, 150]), array([150, 150, 150, 150, 150]))"
      ]
     },
     "execution_count": 18,
     "metadata": {},
     "output_type": "execute_result"
    }
   ],
   "source": [
    "size_d = {k: PIL.Image.open(PATH+k).size for k in data.trn_ds.fnames}\n",
    "row_sz,col_sz = list(zip(*size_d.values())) \n",
    "row_sz=np.array(row_sz); col_sz=np.array(col_sz) \n",
    "row_sz[:5], col_sz[:5]    "
   ]
  },
  {
   "cell_type": "code",
   "execution_count": 19,
   "metadata": {},
   "outputs": [
    {
     "data": {
      "text/plain": [
       "(array([  0.,   0.,   0.,   0.,   0., 715.,   0.,   0.,   0.,   0.]),\n",
       " array([149.5, 149.6, 149.7, 149.8, 149.9, 150. , 150.1, 150.2, 150.3, 150.4, 150.5]),\n",
       " <a list of 10 Patch objects>)"
      ]
     },
     "execution_count": 19,
     "metadata": {},
     "output_type": "execute_result"
    },
    {
     "data": {
      "image/png": "[encoded data removed]",
      "text/plain": [
       "<Figure size 432x288 with 1 Axes>"
      ]
     },
     "metadata": {},
     "output_type": "display_data"
    }
   ],
   "source": [
    "plt.hist(col_sz[row_sz])"
   ]
  },
  {
   "cell_type": "code",
   "execution_count": 20,
   "metadata": {},
   "outputs": [
    {
     "data": {
      "text/plain": [
       "(23,\n",
       " ['&',\n",
       "  'Chanel',\n",
       "  'Christian',\n",
       "  'Dior',\n",
       "  'Dolce',\n",
       "  'Gabbana',\n",
       "  'Gucci',\n",
       "  'Laurent',\n",
       "  'Louboutin',\n",
       "  'Saint',\n",
       "  'Versace',\n",
       "  'Yves',\n",
       "  'boots',\n",
       "  'bracelet',\n",
       "  'earrings',\n",
       "  'handbag',\n",
       "  'lipstick',\n",
       "  'nail',\n",
       "  'necklace',\n",
       "  'polish',\n",
       "  'ring',\n",
       "  'shoes',\n",
       "  'watches'])"
      ]
     },
     "execution_count": 20,
     "metadata": {},
     "output_type": "execute_result"
    }
   ],
   "source": [
    "len(data.classes), data.classes"
   ]
  },
  {
   "cell_type": "code",
   "execution_count": 21,
   "metadata": {},
   "outputs": [
    {
     "data": {
      "text/plain": [
       "\n",
       "\n",
       "Columns 0 to 12 \n",
       "    0     0     1     0     0     0     0     0     1     0     0     0     0\n",
       "    0     0     1     0     0     0     0     0     1     0     0     0     0\n",
       "    0     0     1     0     0     0     0     0     1     0     0     0     0\n",
       "    0     0     1     0     0     0     0     0     1     0     0     0     0\n",
       "    0     0     1     0     0     0     0     0     1     0     0     0     0\n",
       "    0     0     1     0     0     0     0     0     1     0     0     0     0\n",
       "    0     0     1     0     0     0     0     0     1     0     0     0     0\n",
       "    0     0     1     0     0     0     0     0     1     0     0     0     0\n",
       "\n",
       "Columns 13 to 22 \n",
       "    0     0     0     0     0     0     0     0     1     0\n",
       "    0     0     0     0     0     0     0     0     1     0\n",
       "    0     0     0     0     0     0     0     0     1     0\n",
       "    0     0     0     0     0     0     0     0     1     0\n",
       "    0     0     0     0     0     0     0     0     1     0\n",
       "    0     0     0     0     0     0     0     0     1     0\n",
       "    0     0     0     0     0     0     0     0     1     0\n",
       "    0     0     0     0     0     0     0     0     1     0\n",
       "[torch.cuda.FloatTensor of size 8x23 (GPU 0)]"
      ]
     },
     "execution_count": 21,
     "metadata": {},
     "output_type": "execute_result"
    }
   ],
   "source": [
    "x,y = next(iter(data.val_dl)) \n",
    "y  "
   ]
  },
  {
   "cell_type": "code",
   "execution_count": 22,
   "metadata": {},
   "outputs": [
    {
     "data": {
      "text/plain": [
       "[('&', 0.0),\n",
       " ('Chanel', 0.0),\n",
       " ('Christian', 1.0),\n",
       " ('Dior', 0.0),\n",
       " ('Dolce', 0.0),\n",
       " ('Gabbana', 0.0),\n",
       " ('Gucci', 0.0),\n",
       " ('Laurent', 0.0),\n",
       " ('Louboutin', 1.0),\n",
       " ('Saint', 0.0),\n",
       " ('Versace', 0.0),\n",
       " ('Yves', 0.0),\n",
       " ('boots', 0.0),\n",
       " ('bracelet', 0.0),\n",
       " ('earrings', 0.0),\n",
       " ('handbag', 0.0),\n",
       " ('lipstick', 0.0),\n",
       " ('nail', 0.0),\n",
       " ('necklace', 0.0),\n",
       " ('polish', 0.0),\n",
       " ('ring', 0.0),\n",
       " ('shoes', 1.0),\n",
       " ('watches', 0.0)]"
      ]
     },
     "execution_count": 22,
     "metadata": {},
     "output_type": "execute_result"
    }
   ],
   "source": [
    "list(zip(data.classes, y[0])) "
   ]
  },
  {
   "cell_type": "markdown",
   "metadata": {},
   "source": [
    "### 2. Learning Rate Experiment "
   ]
  },
  {
   "cell_type": "code",
   "execution_count": 23,
   "metadata": {},
   "outputs": [],
   "source": [
    "y = data.trn_ds.denorm(x)[1] \n",
    "ims = np.stack([y for i in range(30)])  \n",
    "ps = [0.2,0.4,0.6,0.3,0.5] \n",
    "learn = ConvLearner.pretrained(f_model, data, ps=ps, metrics=metrics)  "
   ]
  },
  {
   "cell_type": "code",
   "execution_count": 24,
   "metadata": {},
   "outputs": [
    {
     "data": {
      "application/vnd.jupyter.widget-view+json": {
       "model_id": "9810105646b14f7b8e653b08c36a9b28",
       "version_major": 2,
       "version_minor": 0
      },
      "text/html": [
       "<p>Failed to display Jupyter Widget of type <code>HBox</code>.</p>\n",
       "<p>\n",
       "  If you're reading this message in the Jupyter Notebook or JupyterLab Notebook, it may mean\n",
       "  that the widgets JavaScript is still loading. If this message persists, it\n",
       "  likely means that the widgets JavaScript library is either not installed or\n",
       "  not enabled. See the <a href=\"https://ipywidgets.readthedocs.io/en/stable/user_install.html\">Jupyter\n",
       "  Widgets Documentation</a> for setup instructions.\n",
       "</p>\n",
       "<p>\n",
       "  If you're reading this message in another frontend (for example, a static\n",
       "  rendering on GitHub or <a href=\"https://nbviewer.jupyter.org/\">NBViewer</a>),\n",
       "  it may mean that your frontend doesn't currently support widgets.\n",
       "</p>\n"
      ],
      "text/plain": [
       "HBox(children=(IntProgress(value=0, description='Epoch', max=1), HTML(value='')))"
      ]
     },
     "metadata": {},
     "output_type": "display_data"
    },
    {
     "name": "stdout",
     "output_type": "stream",
     "text": [
      "epoch      trn_loss   val_loss   f2                        \n",
      "    0      0.832059   5.733437   0.31016   \n",
      "\n"
     ]
    }
   ],
   "source": [
    "lrf=learn.lr_find()  "
   ]
  },
  {
   "cell_type": "code",
   "execution_count": 25,
   "metadata": {},
   "outputs": [
    {
     "data": {
      "image/png": "[encoded data removed]",
      "text/plain": [
       "<Figure size 432x288 with 1 Axes>"
      ]
     },
     "metadata": {},
     "output_type": "display_data"
    }
   ],
   "source": [
    "learn.sched.plot()  "
   ]
  },
  {
   "cell_type": "code",
   "execution_count": 26,
   "metadata": {},
   "outputs": [],
   "source": [
    "lr = 0.3  "
   ]
  },
  {
   "cell_type": "markdown",
   "metadata": {},
   "source": [
    "### 3. Drill in last layer "
   ]
  },
  {
   "cell_type": "code",
   "execution_count": 27,
   "metadata": {},
   "outputs": [
    {
     "data": {
      "application/vnd.jupyter.widget-view+json": {
       "model_id": "0d26b2088a1144f48af246ed7749d68d",
       "version_major": 2,
       "version_minor": 0
      },
      "text/html": [
       "<p>Failed to display Jupyter Widget of type <code>HBox</code>.</p>\n",
       "<p>\n",
       "  If you're reading this message in the Jupyter Notebook or JupyterLab Notebook, it may mean\n",
       "  that the widgets JavaScript is still loading. If this message persists, it\n",
       "  likely means that the widgets JavaScript library is either not installed or\n",
       "  not enabled. See the <a href=\"https://ipywidgets.readthedocs.io/en/stable/user_install.html\">Jupyter\n",
       "  Widgets Documentation</a> for setup instructions.\n",
       "</p>\n",
       "<p>\n",
       "  If you're reading this message in another frontend (for example, a static\n",
       "  rendering on GitHub or <a href=\"https://nbviewer.jupyter.org/\">NBViewer</a>),\n",
       "  it may mean that your frontend doesn't currently support widgets.\n",
       "</p>\n"
      ],
      "text/plain": [
       "HBox(children=(IntProgress(value=0, description='Epoch', max=5), HTML(value='')))"
      ]
     },
     "metadata": {},
     "output_type": "display_data"
    },
    {
     "name": "stdout",
     "output_type": "stream",
     "text": [
      "epoch      trn_loss   val_loss   f2                        \n",
      "    0      0.388654   0.313592   0.546105  \n",
      "    1      0.304229   0.25827    0.622824                  \n",
      "    2      0.266902   0.244166   0.645304                  \n",
      "    3      0.243718   0.245586   0.629021                  \n",
      "    4      0.230152   0.238532   0.638935                  \n",
      "\n",
      "CPU times: user 50 s, sys: 15.1 s, total: 1min 5s\n",
      "Wall time: 59.6 s\n"
     ]
    },
    {
     "data": {
      "text/plain": [
       "[0.23853153, 0.6389348079915981]"
      ]
     },
     "execution_count": 27,
     "metadata": {},
     "output_type": "execute_result"
    }
   ],
   "source": [
    "%time learn.fit(lr, 5)"
   ]
  },
  {
   "cell_type": "markdown",
   "metadata": {},
   "source": [
    "= Epoch   100% 5/5 00:59<00:00, 11.93s/it \n",
    "\n",
    "epoch      trn_loss   val_loss   f2                        \n",
    "    0      0.388654   0.313592   0.546105  \n",
    "    1      0.304229   0.25827    0.622824                  \n",
    "    2      0.266902   0.244166   0.645304                  \n",
    "    3      0.243718   0.245586   0.629021                  \n",
    "    4      0.230152   0.238532   0.638935                  \n",
    "\n",
    "CPU times: user 50 s, sys: 15.1 s, total: 1min 5s\n",
    "Wall time: 59.6 s\n",
    "\n",
    " 0.23853153, 0.6389348079915981 =. "
   ]
  },
  {
   "cell_type": "markdown",
   "metadata": {},
   "source": [
    "### 4. Unfreeze all layers "
   ]
  },
  {
   "cell_type": "code",
   "execution_count": 28,
   "metadata": {},
   "outputs": [
    {
     "data": {
      "application/vnd.jupyter.widget-view+json": {
       "model_id": "f3043436a0794facb16e3111f2e0bf4d",
       "version_major": 2,
       "version_minor": 0
      },
      "text/html": [
       "<p>Failed to display Jupyter Widget of type <code>HBox</code>.</p>\n",
       "<p>\n",
       "  If you're reading this message in the Jupyter Notebook or JupyterLab Notebook, it may mean\n",
       "  that the widgets JavaScript is still loading. If this message persists, it\n",
       "  likely means that the widgets JavaScript library is either not installed or\n",
       "  not enabled. See the <a href=\"https://ipywidgets.readthedocs.io/en/stable/user_install.html\">Jupyter\n",
       "  Widgets Documentation</a> for setup instructions.\n",
       "</p>\n",
       "<p>\n",
       "  If you're reading this message in another frontend (for example, a static\n",
       "  rendering on GitHub or <a href=\"https://nbviewer.jupyter.org/\">NBViewer</a>),\n",
       "  it may mean that your frontend doesn't currently support widgets.\n",
       "</p>\n"
      ],
      "text/plain": [
       "HBox(children=(IntProgress(value=0, description='Epoch', max=2), HTML(value='')))"
      ]
     },
     "metadata": {},
     "output_type": "display_data"
    },
    {
     "name": "stdout",
     "output_type": "stream",
     "text": [
      "epoch      trn_loss   val_loss   f2                        \n",
      "    0      0.392281   0.381983   0.362648  \n",
      "    1      0.365872   0.371991   0.335704                  \n",
      "\n",
      "CPU times: user 25.7 s, sys: 7.98 s, total: 33.6 s\n",
      "Wall time: 31.7 s\n"
     ]
    },
    {
     "data": {
      "text/plain": [
       "[0.3719905, 0.3357039811096091]"
      ]
     },
     "execution_count": 28,
     "metadata": {},
     "output_type": "execute_result"
    }
   ],
   "source": [
    "learn.unfreeze() \n",
    "%time learn.fit(lr, 2) "
   ]
  },
  {
   "cell_type": "markdown",
   "metadata": {},
   "source": [
    "= Epoch   100% 2/2  00:31<00:00, 15.86s/it \n",
    "\n",
    "epoch      trn_loss   val_loss   f2                        \n",
    "    0      0.392281   0.381983   0.362648  \n",
    "    1      0.365872   0.371991   0.335704                  \n",
    "\n",
    "CPU times: user 25.7 s, sys: 7.98 s, total: 33.6 s\n",
    "Wall time: 31.7 s\n",
    "\n",
    " 0.3719905, 0.3357039811096091 =. "
   ]
  },
  {
   "cell_type": "code",
   "execution_count": 29,
   "metadata": {},
   "outputs": [],
   "source": [
    "sz=80  \n",
    "m_zoom = 1.1  \n",
    "data = get_data(sz)  \n",
    "y = data.trn_ds.denorm(x)[1] \n",
    "ims = np.stack([y for i in range(30)])  \n",
    "learn = ConvLearner.pretrained(f_model, data, ps=ps, metrics=metrics)  "
   ]
  },
  {
   "cell_type": "code",
   "execution_count": 30,
   "metadata": {},
   "outputs": [
    {
     "data": {
      "application/vnd.jupyter.widget-view+json": {
       "model_id": "d6628e378557456485e35baed71a440d",
       "version_major": 2,
       "version_minor": 0
      },
      "text/html": [
       "<p>Failed to display Jupyter Widget of type <code>HBox</code>.</p>\n",
       "<p>\n",
       "  If you're reading this message in the Jupyter Notebook or JupyterLab Notebook, it may mean\n",
       "  that the widgets JavaScript is still loading. If this message persists, it\n",
       "  likely means that the widgets JavaScript library is either not installed or\n",
       "  not enabled. See the <a href=\"https://ipywidgets.readthedocs.io/en/stable/user_install.html\">Jupyter\n",
       "  Widgets Documentation</a> for setup instructions.\n",
       "</p>\n",
       "<p>\n",
       "  If you're reading this message in another frontend (for example, a static\n",
       "  rendering on GitHub or <a href=\"https://nbviewer.jupyter.org/\">NBViewer</a>),\n",
       "  it may mean that your frontend doesn't currently support widgets.\n",
       "</p>\n"
      ],
      "text/plain": [
       "HBox(children=(IntProgress(value=0, description='Epoch', max=1), HTML(value='')))"
      ]
     },
     "metadata": {},
     "output_type": "display_data"
    },
    {
     "name": "stdout",
     "output_type": "stream",
     "text": [
      "epoch      trn_loss   val_loss   f2                        \n",
      "    0      0.825869   8.092792   0.362265  \n",
      "\n"
     ]
    }
   ],
   "source": [
    "lrf=learn.lr_find()  "
   ]
  },
  {
   "cell_type": "code",
   "execution_count": 31,
   "metadata": {},
   "outputs": [
    {
     "data": {
      "image/png": "[encoded data removed]",
      "text/plain": [
       "<Figure size 432x288 with 1 Axes>"
      ]
     },
     "metadata": {},
     "output_type": "display_data"
    }
   ],
   "source": [
    "learn.sched.plot()  "
   ]
  },
  {
   "cell_type": "code",
   "execution_count": 32,
   "metadata": {},
   "outputs": [],
   "source": [
    "lr = 0.1  "
   ]
  },
  {
   "cell_type": "markdown",
   "metadata": {},
   "source": [
    "### 5. Train hard "
   ]
  },
  {
   "cell_type": "code",
   "execution_count": 33,
   "metadata": {},
   "outputs": [
    {
     "data": {
      "application/vnd.jupyter.widget-view+json": {
       "model_id": "bbef8067c258436d9594849e9fbb1eee",
       "version_major": 2,
       "version_minor": 0
      },
      "text/html": [
       "<p>Failed to display Jupyter Widget of type <code>HBox</code>.</p>\n",
       "<p>\n",
       "  If you're reading this message in the Jupyter Notebook or JupyterLab Notebook, it may mean\n",
       "  that the widgets JavaScript is still loading. If this message persists, it\n",
       "  likely means that the widgets JavaScript library is either not installed or\n",
       "  not enabled. See the <a href=\"https://ipywidgets.readthedocs.io/en/stable/user_install.html\">Jupyter\n",
       "  Widgets Documentation</a> for setup instructions.\n",
       "</p>\n",
       "<p>\n",
       "  If you're reading this message in another frontend (for example, a static\n",
       "  rendering on GitHub or <a href=\"https://nbviewer.jupyter.org/\">NBViewer</a>),\n",
       "  it may mean that your frontend doesn't currently support widgets.\n",
       "</p>\n"
      ],
      "text/plain": [
       "HBox(children=(IntProgress(value=0, description='Epoch', max=9), HTML(value='')))"
      ]
     },
     "metadata": {},
     "output_type": "display_data"
    },
    {
     "name": "stdout",
     "output_type": "stream",
     "text": [
      "epoch      trn_loss   val_loss   f2                        \n",
      "    0      0.381868   0.263847   0.602329  \n",
      "    1      0.271496   0.233548   0.676157                  \n",
      "    2      0.234914   0.229466   0.68644                   \n",
      "    3      0.235446   0.221066   0.697075                  \n",
      "    4      0.219601   0.210835   0.735063                  \n",
      "    5      0.195286   0.204302   0.730496                  \n",
      "    6      0.17953    0.197933   0.731398                  \n",
      "    7      0.173521   0.199966   0.746339                  \n",
      "    8      0.167692   0.19599    0.732495                  \n",
      "\n",
      "CPU times: user 1min 34s, sys: 29.7 s, total: 2min 4s\n",
      "Wall time: 1min 53s\n"
     ]
    },
    {
     "data": {
      "text/plain": [
       "[0.19598956, 0.7324952607594498]"
      ]
     },
     "execution_count": 33,
     "metadata": {},
     "output_type": "execute_result"
    }
   ],
   "source": [
    "lrs = np.array([lr, lr/3, lr/10]) \n",
    "%time learn.fit(lr, 2, cycle_len=3, cycle_mult=2) "
   ]
  },
  {
   "cell_type": "markdown",
   "metadata": {},
   "source": [
    "= Epoch   100% 9/9 01:53<00:00, 12.61s/it \n",
    "\n",
    "epoch      trn_loss   val_loss   f2                        \n",
    "    0      0.381868   0.263847   0.602329  \n",
    "    1      0.271496   0.233548   0.676157                  \n",
    "    2      0.234914   0.229466   0.68644                   \n",
    "    3      0.235446   0.221066   0.697075                  \n",
    "    4      0.219601   0.210835   0.735063                  \n",
    "    5      0.195286   0.204302   0.730496                  \n",
    "    6      0.17953    0.197933   0.731398                  \n",
    "    7      0.173521   0.199966   0.746339                  \n",
    "    8      0.167692   0.19599    0.732495                  \n",
    "\n",
    "CPU times: user 1min 34s, sys: 29.7 s, total: 2min 4s\n",
    "Wall time: 1min 53s\n",
    "\n",
    "0.19598956, 0.7324952607594498 =. "
   ]
  },
  {
   "cell_type": "code",
   "execution_count": 34,
   "metadata": {},
   "outputs": [],
   "source": [
    "learn.save('80_styleML')"
   ]
  },
  {
   "cell_type": "code",
   "execution_count": 35,
   "metadata": {},
   "outputs": [],
   "source": [
    "learn.load('80_styleML')"
   ]
  },
  {
   "cell_type": "code",
   "execution_count": 36,
   "metadata": {
    "scrolled": true
   },
   "outputs": [
    {
     "data": {
      "image/png": "[encoded data removed]",
      "text/plain": [
       "<Figure size 432x288 with 1 Axes>"
      ]
     },
     "metadata": {},
     "output_type": "display_data"
    }
   ],
   "source": [
    "learn.sched.plot_loss()"
   ]
  },
  {
   "cell_type": "markdown",
   "metadata": {},
   "source": [
    "Augment more data to improve accuracy. "
   ]
  },
  {
   "cell_type": "code",
   "execution_count": 37,
   "metadata": {},
   "outputs": [],
   "source": [
    "asz=96  \n",
    "m_zoom = 1.1  \n",
    "data = get_data(sz)  \n",
    "y = data.trn_ds.denorm(x)[1] \n",
    "ims = np.stack([y for i in range(63)])  \n",
    "learn = ConvLearner.pretrained(f_model, data, ps=ps, metrics=metrics, precompute=False) "
   ]
  },
  {
   "cell_type": "code",
   "execution_count": 38,
   "metadata": {},
   "outputs": [
    {
     "data": {
      "application/vnd.jupyter.widget-view+json": {
       "model_id": "2d7df3d7b1084b25b633e2e7d62879b9",
       "version_major": 2,
       "version_minor": 0
      },
      "text/html": [
       "<p>Failed to display Jupyter Widget of type <code>HBox</code>.</p>\n",
       "<p>\n",
       "  If you're reading this message in the Jupyter Notebook or JupyterLab Notebook, it may mean\n",
       "  that the widgets JavaScript is still loading. If this message persists, it\n",
       "  likely means that the widgets JavaScript library is either not installed or\n",
       "  not enabled. See the <a href=\"https://ipywidgets.readthedocs.io/en/stable/user_install.html\">Jupyter\n",
       "  Widgets Documentation</a> for setup instructions.\n",
       "</p>\n",
       "<p>\n",
       "  If you're reading this message in another frontend (for example, a static\n",
       "  rendering on GitHub or <a href=\"https://nbviewer.jupyter.org/\">NBViewer</a>),\n",
       "  it may mean that your frontend doesn't currently support widgets.\n",
       "</p>\n"
      ],
      "text/plain": [
       "HBox(children=(IntProgress(value=0, description='Epoch', max=1), HTML(value='')))"
      ]
     },
     "metadata": {},
     "output_type": "display_data"
    },
    {
     "name": "stdout",
     "output_type": "stream",
     "text": [
      "epoch      trn_loss   val_loss   f2                        \n",
      "    0      0.761163   4.895176   0.428282  \n",
      "\n"
     ]
    }
   ],
   "source": [
    "lrf=learn.lr_find()  "
   ]
  },
  {
   "cell_type": "code",
   "execution_count": 39,
   "metadata": {},
   "outputs": [
    {
     "data": {
      "image/png": "[encoded data removed]",
      "text/plain": [
       "<Figure size 432x288 with 1 Axes>"
      ]
     },
     "metadata": {},
     "output_type": "display_data"
    }
   ],
   "source": [
    "learn.sched.plot()  "
   ]
  },
  {
   "cell_type": "code",
   "execution_count": 40,
   "metadata": {},
   "outputs": [
    {
     "data": {
      "application/vnd.jupyter.widget-view+json": {
       "model_id": "7a29351ae41549139e602f554ccb1b01",
       "version_major": 2,
       "version_minor": 0
      },
      "text/html": [
       "<p>Failed to display Jupyter Widget of type <code>HBox</code>.</p>\n",
       "<p>\n",
       "  If you're reading this message in the Jupyter Notebook or JupyterLab Notebook, it may mean\n",
       "  that the widgets JavaScript is still loading. If this message persists, it\n",
       "  likely means that the widgets JavaScript library is either not installed or\n",
       "  not enabled. See the <a href=\"https://ipywidgets.readthedocs.io/en/stable/user_install.html\">Jupyter\n",
       "  Widgets Documentation</a> for setup instructions.\n",
       "</p>\n",
       "<p>\n",
       "  If you're reading this message in another frontend (for example, a static\n",
       "  rendering on GitHub or <a href=\"https://nbviewer.jupyter.org/\">NBViewer</a>),\n",
       "  it may mean that your frontend doesn't currently support widgets.\n",
       "</p>\n"
      ],
      "text/plain": [
       "HBox(children=(IntProgress(value=0, description='Epoch', max=2), HTML(value='')))"
      ]
     },
     "metadata": {},
     "output_type": "display_data"
    },
    {
     "name": "stdout",
     "output_type": "stream",
     "text": [
      "epoch      trn_loss   val_loss   f2                        \n",
      "    0      0.34788    0.252652   0.653338  \n",
      "    1      0.269417   0.224744   0.68706                   \n",
      "\n",
      "CPU times: user 21 s, sys: 6.33 s, total: 27.3 s\n",
      "Wall time: 25 s\n"
     ]
    },
    {
     "data": {
      "text/plain": [
       "[0.22474416, 0.6870598687176054]"
      ]
     },
     "execution_count": 40,
     "metadata": {},
     "output_type": "execute_result"
    }
   ],
   "source": [
    "%time learn.fit(lr, 2) "
   ]
  },
  {
   "cell_type": "markdown",
   "metadata": {},
   "source": [
    "= Epoch   100% 2/2 00:25<00:00, 12.52s/it \n",
    "\n",
    "epoch      trn_loss   val_loss   f2                        \n",
    "    0      0.34788    0.252652   0.653338  \n",
    "    1      0.269417   0.224744   0.68706                   \n",
    "\n",
    "CPU times: user 21 s, sys: 6.33 s, total: 27.3 s\n",
    "Wall time: 25 s\n",
    "\n",
    " 0.22474416, 0.6870598687176054 =. "
   ]
  },
  {
   "cell_type": "markdown",
   "metadata": {},
   "source": [
    "Add parameters to prevent overfitting: "
   ]
  },
  {
   "cell_type": "code",
   "execution_count": 41,
   "metadata": {},
   "outputs": [],
   "source": [
    "def get_data(sz): \n",
    "        tfms = tfms_from_model(f_model, sz, aug_tfms=transforms_side_on, max_zoom=m_zoom, pad=sz//8)\n",
    "        return ImageClassifierData.from_csv(PATH, 'train894', label_csv, tfms=tfms, val_idxs=val_idxs, bs=bs)"
   ]
  },
  {
   "cell_type": "code",
   "execution_count": 42,
   "metadata": {},
   "outputs": [],
   "source": [
    "data = get_data(sz)  \n",
    "learn = ConvLearner.pretrained(f_model, data, ps=ps, metrics=metrics, precompute=False) \n",
    "learn.unfreeze()"
   ]
  },
  {
   "cell_type": "code",
   "execution_count": 43,
   "metadata": {
    "scrolled": false
   },
   "outputs": [
    {
     "data": {
      "application/vnd.jupyter.widget-view+json": {
       "model_id": "7c7c86d169af4ee7aaa1d4c0aab78246",
       "version_major": 2,
       "version_minor": 0
      },
      "text/html": [
       "<p>Failed to display Jupyter Widget of type <code>HBox</code>.</p>\n",
       "<p>\n",
       "  If you're reading this message in the Jupyter Notebook or JupyterLab Notebook, it may mean\n",
       "  that the widgets JavaScript is still loading. If this message persists, it\n",
       "  likely means that the widgets JavaScript library is either not installed or\n",
       "  not enabled. See the <a href=\"https://ipywidgets.readthedocs.io/en/stable/user_install.html\">Jupyter\n",
       "  Widgets Documentation</a> for setup instructions.\n",
       "</p>\n",
       "<p>\n",
       "  If you're reading this message in another frontend (for example, a static\n",
       "  rendering on GitHub or <a href=\"https://nbviewer.jupyter.org/\">NBViewer</a>),\n",
       "  it may mean that your frontend doesn't currently support widgets.\n",
       "</p>\n"
      ],
      "text/plain": [
       "HBox(children=(IntProgress(value=0, description='Epoch', max=26), HTML(value='')))"
      ]
     },
     "metadata": {},
     "output_type": "display_data"
    },
    {
     "name": "stdout",
     "output_type": "stream",
     "text": [
      "epoch      trn_loss   val_loss   f2                        \n",
      "    0      0.441264   0.432384   0.290448  \n",
      "    1      0.379031   0.359161   0.369124                  \n",
      "    2      0.382017   0.506155   0.251443                  \n",
      "    3      0.371699   0.341397   0.399019                  \n",
      "    4      0.362688   0.342013   0.465589                  \n",
      "    5      0.340504   0.388765   0.514384                  \n",
      "    6      0.340499   0.364021   0.501648                  \n",
      "    7      0.332816   0.348796   0.513106                  \n",
      "    8      0.354245   0.504712   0.283859                  \n",
      "    9      0.364002   0.548182   0.356332                  \n",
      "    10     0.361562   0.347099   0.452391                  \n",
      "    11     0.356192   0.499086   0.497979                  \n",
      "    12     0.343267   0.533871   0.463377                  \n",
      "    13     0.337408   0.391195   0.479467                  \n",
      "    14     0.336329   0.39248    0.461199                  \n",
      "    15     0.330511   0.337385   0.578322                  \n",
      "    16     0.321086   0.447298   0.561543                  \n",
      "    17     0.31415    0.820115   0.530022                  \n",
      "    18     0.307911   0.452089   0.561945                  \n",
      "    19     0.308674   0.28752    0.60691                   \n",
      "    20     0.300845   0.34575    0.613987                  \n",
      "    21     0.2934     0.276353   0.625345                  \n",
      "    22     0.286526   0.309949   0.56155                   \n",
      "    23     0.293258   0.307632   0.594552                  \n",
      "    24     0.293171   0.294005   0.610648                  \n",
      "    25     0.29452    0.290262   0.611543                  \n",
      "\n",
      "CPU times: user 6min 2s, sys: 1min 50s, total: 7min 53s\n",
      "Wall time: 7min 21s\n"
     ]
    },
    {
     "data": {
      "text/plain": [
       "[0.29026172, 0.6115430455532058]"
      ]
     },
     "execution_count": 43,
     "metadata": {},
     "output_type": "execute_result"
    }
   ],
   "source": [
    "lrs = np.array([lr, lr/3, lr/12]) \n",
    "%time learn.fit(lr, 3, cycle_len=2, cycle_mult=3) "
   ]
  },
  {
   "cell_type": "markdown",
   "metadata": {},
   "source": [
    "= Epoch   100% 26/26 07:21<00:00, 16.96s/it  \n",
    "\n",
    "epoch      trn_loss   val_loss   f2                        \n",
    "    0      0.441264   0.432384   0.290448 c1  \n",
    "    1      0.379031   0.359161   0.369124                  \n",
    "    2      0.382017   0.506155   0.251443 c2                 \n",
    "    3      0.371699   0.341397   0.399019                  \n",
    "    4      0.362688   0.342013   0.465589                  \n",
    "    5      0.340504   0.388765   0.514384                  \n",
    "    6      0.340499   0.364021   0.501648                  \n",
    "    7      0.332816   0.348796   0.513106                  \n",
    "    8      0.354245   0.504712   0.283859 c3                 \n",
    "    9      0.364002   0.548182   0.356332                  \n",
    "    10     0.361562   0.347099   0.452391                  \n",
    "    11     0.356192   0.499086   0.497979                  \n",
    "    12     0.343267   0.533871   0.463377                  \n",
    "    13     0.337408   0.391195   0.479467                  \n",
    "    14     0.336329   0.39248    0.461199                  \n",
    "    15     0.330511   0.337385   0.578322                  \n",
    "    16     0.321086   0.447298   0.561543                  \n",
    "    17     0.31415    0.820115   0.530022                  \n",
    "    18     0.307911   0.452089   0.561945                  \n",
    "    19     0.308674   0.28752    0.60691                   \n",
    "    20     0.300845   0.34575    0.613987                  \n",
    "    21     0.2934     0.276353   0.625345                  \n",
    "    22     0.286526   0.309949   0.56155                   \n",
    "    23     0.293258   0.307632   0.594552                  \n",
    "    24     0.293171   0.294005   0.610648                  \n",
    "    25     0.29452    0.290262   0.611543                  \n",
    "\n",
    "CPU times: user 6min 2s, sys: 1min 50s, total: 7min 53s\n",
    "Wall time: 7min 21s\n",
    "\n",
    "0.29026172, 0.6115430455532058 =."
   ]
  },
  {
   "cell_type": "markdown",
   "metadata": {},
   "source": [
    "Stochastic Gradient Dropped down a hill.  \n",
    "Give it a little push. "
   ]
  },
  {
   "cell_type": "code",
   "execution_count": 45,
   "metadata": {},
   "outputs": [
    {
     "data": {
      "application/vnd.jupyter.widget-view+json": {
       "model_id": "63895cdd2b6145538b6db0bd9fdbb06a",
       "version_major": 2,
       "version_minor": 0
      },
      "text/html": [
       "<p>Failed to display Jupyter Widget of type <code>HBox</code>.</p>\n",
       "<p>\n",
       "  If you're reading this message in the Jupyter Notebook or JupyterLab Notebook, it may mean\n",
       "  that the widgets JavaScript is still loading. If this message persists, it\n",
       "  likely means that the widgets JavaScript library is either not installed or\n",
       "  not enabled. See the <a href=\"https://ipywidgets.readthedocs.io/en/stable/user_install.html\">Jupyter\n",
       "  Widgets Documentation</a> for setup instructions.\n",
       "</p>\n",
       "<p>\n",
       "  If you're reading this message in another frontend (for example, a static\n",
       "  rendering on GitHub or <a href=\"https://nbviewer.jupyter.org/\">NBViewer</a>),\n",
       "  it may mean that your frontend doesn't currently support widgets.\n",
       "</p>\n"
      ],
      "text/plain": [
       "HBox(children=(IntProgress(value=0, description='Epoch', max=4), HTML(value='')))"
      ]
     },
     "metadata": {},
     "output_type": "display_data"
    },
    {
     "name": "stdout",
     "output_type": "stream",
     "text": [
      "epoch      trn_loss   val_loss   f2                        \n",
      "    0      0.289498   0.284811   0.632251  \n",
      "    1      0.284089   0.278236   0.643044                  \n",
      "    2      0.289151   0.293508   0.629119                  \n",
      "    3      0.294157   0.279208   0.632152                  \n",
      "\n",
      "CPU times: user 55.9 s, sys: 16.7 s, total: 1min 12s\n",
      "Wall time: 1min 7s\n"
     ]
    },
    {
     "data": {
      "text/plain": [
       "[0.27920827, 0.6321520564077268]"
      ]
     },
     "execution_count": 45,
     "metadata": {},
     "output_type": "execute_result"
    }
   ],
   "source": [
    "%time learn.fit(0.0005, 4, cycle_len=1) "
   ]
  },
  {
   "cell_type": "markdown",
   "metadata": {},
   "source": [
    "=  Epoch   100% 4/4 01:07<00:00, 16.95s/it \n",
    "\n",
    "epoch      trn_loss   val_loss   f2                        \n",
    "    0      0.289498   0.284811   0.632251  \n",
    "    1      0.284089   0.278236   0.643044                  \n",
    "    2      0.289151   0.293508   0.629119                  \n",
    "    3      0.294157   0.279208   0.632152                  \n",
    "\n",
    "CPU times: user 55.9 s, sys: 16.7 s, total: 1min 12s\n",
    "Wall time: 1min 7s\n",
    "\n",
    " 0.27920827, 0.6321520564077268 =."
   ]
  },
  {
   "cell_type": "code",
   "execution_count": 46,
   "metadata": {},
   "outputs": [],
   "source": [
    "learn.save('96_styleML') "
   ]
  },
  {
   "cell_type": "markdown",
   "metadata": {},
   "source": [
    "### 6. Differential Learning Rate  "
   ]
  },
  {
   "cell_type": "code",
   "execution_count": 47,
   "metadata": {},
   "outputs": [
    {
     "name": "stdout",
     "output_type": "stream",
     "text": [
      "100%|██████████| 90/90 [00:09<00:00,  9.33it/s]\n",
      "100%|██████████| 23/23 [00:02<00:00,  9.20it/s]\n"
     ]
    }
   ],
   "source": [
    "learn.freeze()\n",
    "asz=112  \n",
    "ps = [0.2,0.3,0.5,0.3,0.5] \n",
    "m_zoom = 1.1  \n",
    "data = get_data(sz)  \n",
    "y = data.trn_ds.denorm(x)[1] \n",
    "ims = np.stack([y for i in range(63)])  \n",
    "learn = ConvLearner.pretrained(f_model, data, ps=ps, metrics=metrics, precompute=True) "
   ]
  },
  {
   "cell_type": "code",
   "execution_count": 48,
   "metadata": {},
   "outputs": [
    {
     "data": {
      "application/vnd.jupyter.widget-view+json": {
       "model_id": "898dc2dd3c244c6f96744afa4f8a0684",
       "version_major": 2,
       "version_minor": 0
      },
      "text/html": [
       "<p>Failed to display Jupyter Widget of type <code>HBox</code>.</p>\n",
       "<p>\n",
       "  If you're reading this message in the Jupyter Notebook or JupyterLab Notebook, it may mean\n",
       "  that the widgets JavaScript is still loading. If this message persists, it\n",
       "  likely means that the widgets JavaScript library is either not installed or\n",
       "  not enabled. See the <a href=\"https://ipywidgets.readthedocs.io/en/stable/user_install.html\">Jupyter\n",
       "  Widgets Documentation</a> for setup instructions.\n",
       "</p>\n",
       "<p>\n",
       "  If you're reading this message in another frontend (for example, a static\n",
       "  rendering on GitHub or <a href=\"https://nbviewer.jupyter.org/\">NBViewer</a>),\n",
       "  it may mean that your frontend doesn't currently support widgets.\n",
       "</p>\n"
      ],
      "text/plain": [
       "HBox(children=(IntProgress(value=0, description='Epoch', max=1), HTML(value='')))"
      ]
     },
     "metadata": {},
     "output_type": "display_data"
    },
    {
     "name": "stdout",
     "output_type": "stream",
     "text": [
      "epoch      trn_loss   val_loss   f2                         \n",
      "    0      0.813539   4.721849   0.402136  \n",
      "\n"
     ]
    }
   ],
   "source": [
    "lrf=learn.lr_find()  "
   ]
  },
  {
   "cell_type": "code",
   "execution_count": 49,
   "metadata": {},
   "outputs": [
    {
     "data": {
      "image/png": "[encoded data removed]",
      "text/plain": [
       "<Figure size 432x288 with 1 Axes>"
      ]
     },
     "metadata": {},
     "output_type": "display_data"
    }
   ],
   "source": [
    "learn.sched.plot()  "
   ]
  },
  {
   "cell_type": "code",
   "execution_count": 50,
   "metadata": {},
   "outputs": [
    {
     "data": {
      "application/vnd.jupyter.widget-view+json": {
       "model_id": "09c758d4005146a29d8133fdf379e6a1",
       "version_major": 2,
       "version_minor": 0
      },
      "text/html": [
       "<p>Failed to display Jupyter Widget of type <code>HBox</code>.</p>\n",
       "<p>\n",
       "  If you're reading this message in the Jupyter Notebook or JupyterLab Notebook, it may mean\n",
       "  that the widgets JavaScript is still loading. If this message persists, it\n",
       "  likely means that the widgets JavaScript library is either not installed or\n",
       "  not enabled. See the <a href=\"https://ipywidgets.readthedocs.io/en/stable/user_install.html\">Jupyter\n",
       "  Widgets Documentation</a> for setup instructions.\n",
       "</p>\n",
       "<p>\n",
       "  If you're reading this message in another frontend (for example, a static\n",
       "  rendering on GitHub or <a href=\"https://nbviewer.jupyter.org/\">NBViewer</a>),\n",
       "  it may mean that your frontend doesn't currently support widgets.\n",
       "</p>\n"
      ],
      "text/plain": [
       "HBox(children=(IntProgress(value=0, description='Epoch', max=2), HTML(value='')))"
      ]
     },
     "metadata": {},
     "output_type": "display_data"
    },
    {
     "name": "stdout",
     "output_type": "stream",
     "text": [
      "epoch      trn_loss   val_loss   f2                         \n",
      "    0      0.350942   0.246306   0.691015  \n",
      "    1      0.253652   0.230819   0.708273                   \n",
      "\n",
      "CPU times: user 1.45 s, sys: 379 ms, total: 1.83 s\n",
      "Wall time: 1.66 s\n"
     ]
    },
    {
     "data": {
      "text/plain": [
       "[0.23081931, 0.7082729061197237]"
      ]
     },
     "execution_count": 50,
     "metadata": {},
     "output_type": "execute_result"
    }
   ],
   "source": [
    "%time learn.fit(lr, 2)  "
   ]
  },
  {
   "cell_type": "markdown",
   "metadata": {},
   "source": [
    "= Epoch   100% 2/2 00:01<00:00, 1.21it/s \n",
    "\n",
    "epoch      trn_loss   val_loss   f2                         \n",
    "    0      0.350942   0.246306   0.691015  \n",
    "    1      0.253652   0.230819   0.708273                   \n",
    "\n",
    "CPU times: user 1.45 s, sys: 379 ms, total: 1.83 s\n",
    "Wall time: 1.66 s\n",
    "\n",
    "0.23081931, 0.7082729061197237 =. "
   ]
  },
  {
   "cell_type": "code",
   "execution_count": 51,
   "metadata": {},
   "outputs": [
    {
     "data": {
      "application/vnd.jupyter.widget-view+json": {
       "model_id": "76a8bce574674678ae981a9940adb1d3",
       "version_major": 2,
       "version_minor": 0
      },
      "text/html": [
       "<p>Failed to display Jupyter Widget of type <code>HBox</code>.</p>\n",
       "<p>\n",
       "  If you're reading this message in the Jupyter Notebook or JupyterLab Notebook, it may mean\n",
       "  that the widgets JavaScript is still loading. If this message persists, it\n",
       "  likely means that the widgets JavaScript library is either not installed or\n",
       "  not enabled. See the <a href=\"https://ipywidgets.readthedocs.io/en/stable/user_install.html\">Jupyter\n",
       "  Widgets Documentation</a> for setup instructions.\n",
       "</p>\n",
       "<p>\n",
       "  If you're reading this message in another frontend (for example, a static\n",
       "  rendering on GitHub or <a href=\"https://nbviewer.jupyter.org/\">NBViewer</a>),\n",
       "  it may mean that your frontend doesn't currently support widgets.\n",
       "</p>\n"
      ],
      "text/plain": [
       "HBox(children=(IntProgress(value=0, description='Epoch', max=14), HTML(value='')))"
      ]
     },
     "metadata": {},
     "output_type": "display_data"
    },
    {
     "name": "stdout",
     "output_type": "stream",
     "text": [
      "epoch      trn_loss   val_loss   f2                        \n",
      "    0      0.225463   0.222396   0.718472  \n",
      "    1      0.224617   0.221637   0.721281                  \n",
      "    2      0.224692   0.215678   0.733381                  \n",
      "    3      0.219516   0.211477   0.738221                  \n",
      "    4      0.220476   0.212385   0.735528                  \n",
      "    5      0.212594   0.214285   0.740043                  \n",
      "    6      0.220533   0.212528   0.732298                  \n",
      "    7      0.210399   0.209033   0.738852                  \n",
      "    8      0.210692   0.212456   0.741402                  \n",
      "    9      0.205472   0.20734    0.748871                  \n",
      "    10     0.201884   0.209383   0.745966                  \n",
      "    11     0.199541   0.205703   0.741771                  \n",
      "    12     0.205888   0.208049   0.747636                  \n",
      "    13     0.201052   0.20792    0.73943                   \n",
      "\n",
      "CPU times: user 2min 30s, sys: 45 s, total: 3min 15s\n",
      "Wall time: 2min 57s\n"
     ]
    },
    {
     "data": {
      "text/plain": [
       "[0.20792024, 0.7394301447749726]"
      ]
     },
     "execution_count": 51,
     "metadata": {},
     "output_type": "execute_result"
    }
   ],
   "source": [
    "learn.set_data(get_data(sz))\n",
    "learn.unfreeze() \n",
    "lrs = np.array([lr, lr/3, lr/12]) \n",
    "%time learn.fit(lrs, 3, cycle_len=2, cycle_mult=2) "
   ]
  },
  {
   "cell_type": "markdown",
   "metadata": {},
   "source": [
    "= Epoch   100% 14/14 02:57<00:00, 12.65s/it \n",
    "\n",
    "epoch      trn_loss   val_loss   f2                        \n",
    "    0      0.225463   0.222396   0.718472 c1  \n",
    "    1      0.224617   0.221637   0.721281                  \n",
    "    2      0.224692   0.215678   0.733381 c2                  \n",
    "    3      0.219516   0.211477   0.738221                  \n",
    "    4      0.220476   0.212385   0.735528                  \n",
    "    5      0.212594   0.214285   0.740043                  \n",
    "    6      0.220533   0.212528   0.732298 c3                  \n",
    "    7      0.210399   0.209033   0.738852                  \n",
    "    8      0.210692   0.212456   0.741402                  \n",
    "    9      0.205472   0.20734    0.748871                  \n",
    "    10     0.201884   0.209383   0.745966                  \n",
    "    11     0.199541   0.205703   0.741771                  \n",
    "    12     0.205888   0.208049   0.747636                  \n",
    "    13     0.201052   0.20792    0.73943                   \n",
    "\n",
    "CPU times: user 2min 30s, sys: 45 s, total: 3min 15s\n",
    "Wall time: 2min 57s\n",
    "\n",
    "0.20792024, 0.7394301447749726 =. "
   ]
  },
  {
   "cell_type": "code",
   "execution_count": 52,
   "metadata": {},
   "outputs": [],
   "source": [
    "learn.save('112_styleML') "
   ]
  },
  {
   "cell_type": "markdown",
   "metadata": {},
   "source": [
    "Is this thing working? "
   ]
  },
  {
   "cell_type": "code",
   "execution_count": 53,
   "metadata": {},
   "outputs": [
    {
     "data": {
      "image/png": "[encoded data removed]",
      "text/plain": [
       "<Figure size 432x288 with 1 Axes>"
      ]
     },
     "metadata": {},
     "output_type": "display_data"
    }
   ],
   "source": [
    "learn.sched.plot_loss() "
   ]
  },
  {
   "cell_type": "markdown",
   "metadata": {},
   "source": [
    "Are we there yet? "
   ]
  },
  {
   "cell_type": "markdown",
   "metadata": {},
   "source": [
    "### Began with 31% accuracy... "
   ]
  },
  {
   "cell_type": "code",
   "execution_count": 54,
   "metadata": {},
   "outputs": [
    {
     "name": "stdout",
     "output_type": "stream",
     "text": [
      "100%|██████████| 90/90 [00:10<00:00,  8.51it/s]\n",
      "100%|██████████| 23/23 [00:02<00:00,  8.41it/s]\n"
     ]
    }
   ],
   "source": [
    "sz=128 \n",
    "learn.freeze() \n",
    "m_zoom = 1.11  \n",
    "data = get_data(sz)  \n",
    "y = data.trn_ds.denorm(x)[1] \n",
    "ims = np.stack([y for i in range(23)])  \n",
    "learn = ConvLearner.pretrained(f_model, data, ps=ps, metrics=metrics, precompute=True) "
   ]
  },
  {
   "cell_type": "code",
   "execution_count": 55,
   "metadata": {},
   "outputs": [
    {
     "data": {
      "application/vnd.jupyter.widget-view+json": {
       "model_id": "fe741ee2e6bd4c10aa18477bffcd2242",
       "version_major": 2,
       "version_minor": 0
      },
      "text/html": [
       "<p>Failed to display Jupyter Widget of type <code>HBox</code>.</p>\n",
       "<p>\n",
       "  If you're reading this message in the Jupyter Notebook or JupyterLab Notebook, it may mean\n",
       "  that the widgets JavaScript is still loading. If this message persists, it\n",
       "  likely means that the widgets JavaScript library is either not installed or\n",
       "  not enabled. See the <a href=\"https://ipywidgets.readthedocs.io/en/stable/user_install.html\">Jupyter\n",
       "  Widgets Documentation</a> for setup instructions.\n",
       "</p>\n",
       "<p>\n",
       "  If you're reading this message in another frontend (for example, a static\n",
       "  rendering on GitHub or <a href=\"https://nbviewer.jupyter.org/\">NBViewer</a>),\n",
       "  it may mean that your frontend doesn't currently support widgets.\n",
       "</p>\n"
      ],
      "text/plain": [
       "HBox(children=(IntProgress(value=0, description='Epoch', max=3), HTML(value='')))"
      ]
     },
     "metadata": {},
     "output_type": "display_data"
    },
    {
     "name": "stdout",
     "output_type": "stream",
     "text": [
      "epoch      trn_loss   val_loss   f2                         \n",
      "    0      0.337843   0.2376     0.643749  \n",
      "    1      0.238445   0.211754   0.700542                   \n",
      "    2      0.20387    0.194314   0.731251                   \n",
      "\n",
      "CPU times: user 2.23 s, sys: 490 ms, total: 2.72 s\n",
      "Wall time: 2.56 s\n"
     ]
    },
    {
     "data": {
      "text/plain": [
       "[0.19431409, 0.7312514128572086]"
      ]
     },
     "execution_count": 55,
     "metadata": {},
     "output_type": "execute_result"
    }
   ],
   "source": [
    "%time learn.fit(lr, 3) "
   ]
  },
  {
   "cell_type": "code",
   "execution_count": 56,
   "metadata": {},
   "outputs": [
    {
     "data": {
      "application/vnd.jupyter.widget-view+json": {
       "model_id": "a4c25774bb654173b6270483b04aa454",
       "version_major": 2,
       "version_minor": 0
      },
      "text/html": [
       "<p>Failed to display Jupyter Widget of type <code>HBox</code>.</p>\n",
       "<p>\n",
       "  If you're reading this message in the Jupyter Notebook or JupyterLab Notebook, it may mean\n",
       "  that the widgets JavaScript is still loading. If this message persists, it\n",
       "  likely means that the widgets JavaScript library is either not installed or\n",
       "  not enabled. See the <a href=\"https://ipywidgets.readthedocs.io/en/stable/user_install.html\">Jupyter\n",
       "  Widgets Documentation</a> for setup instructions.\n",
       "</p>\n",
       "<p>\n",
       "  If you're reading this message in another frontend (for example, a static\n",
       "  rendering on GitHub or <a href=\"https://nbviewer.jupyter.org/\">NBViewer</a>),\n",
       "  it may mean that your frontend doesn't currently support widgets.\n",
       "</p>\n"
      ],
      "text/plain": [
       "HBox(children=(IntProgress(value=0, description='Epoch', max=7), HTML(value='')))"
      ]
     },
     "metadata": {},
     "output_type": "display_data"
    },
    {
     "name": "stdout",
     "output_type": "stream",
     "text": [
      "epoch      trn_loss   val_loss   f2                        \n",
      "    0      0.200004   0.19194    0.734624  \n",
      "    1      0.188383   0.182253   0.765025                  \n",
      "    2      0.176715   0.179774   0.753215                  \n",
      "    3      0.18681    0.166874   0.785796                  \n",
      "    4      0.166785   0.174156   0.778998                  \n",
      "    5      0.159903   0.178841   0.776415                  \n",
      "    6      0.151719   0.180132   0.776107                  \n",
      "\n",
      "CPU times: user 1min 25s, sys: 24.4 s, total: 1min 49s\n",
      "Wall time: 1min 37s\n"
     ]
    },
    {
     "data": {
      "text/plain": [
       "[0.18013158, 0.776106703717424]"
      ]
     },
     "execution_count": 56,
     "metadata": {},
     "output_type": "execute_result"
    }
   ],
   "source": [
    "learn.unfreeze()  \n",
    "learn.set_data(get_data(sz)) \n",
    "%time learn.fit(0.08, 3, cycle_len=1, cycle_mult=2) "
   ]
  },
  {
   "cell_type": "markdown",
   "metadata": {},
   "source": [
    "= Epoch   100% 7/7 01:37<00:00, 13.91s/it \n",
    "\n",
    "epoch      trn_loss   val_loss   f2                        \n",
    "    0      0.200004   0.19194    0.734624 c1  \n",
    "    1      0.188383   0.182253   0.765025 c2                  \n",
    "    2      0.176715   0.179774   0.753215                  \n",
    "    3      0.18681    0.166874   0.785796 c3                  \n",
    "    4      0.166785   0.174156   0.778998                  \n",
    "    5      0.159903   0.178841   0.776415                  \n",
    "    6      0.151719   0.180132   0.776107                  \n",
    "\n",
    "CPU times: user 1min 25s, sys: 24.4 s, total: 1min 49s\n",
    "Wall time: 1min 37s\n",
    "\n",
    " 0.18013158, 0.776106703717424 =. "
   ]
  },
  {
   "cell_type": "code",
   "execution_count": 57,
   "metadata": {},
   "outputs": [],
   "source": [
    "learn.save('128_styleML') "
   ]
  },
  {
   "cell_type": "markdown",
   "metadata": {},
   "source": [
    "### 7. Test Time Augmentation  "
   ]
  },
  {
   "cell_type": "code",
   "execution_count": 58,
   "metadata": {},
   "outputs": [
    {
     "name": "stdout",
     "output_type": "stream",
     "text": [
      "                                             \r"
     ]
    }
   ],
   "source": [
    "multi_preds, y = learn.TTA()\n",
    "preds = np.mean(multi_preds, 0) "
   ]
  },
  {
   "cell_type": "code",
   "execution_count": 59,
   "metadata": {},
   "outputs": [
    {
     "data": {
      "text/plain": [
       "0.7715135715503334"
      ]
     },
     "execution_count": 59,
     "metadata": {},
     "output_type": "execute_result"
    }
   ],
   "source": [
    "f2(preds,y)"
   ]
  },
  {
   "cell_type": "markdown",
   "metadata": {},
   "source": [
    "### 8. Review \n",
    "This dataset has 894 images from 23 classes of brands and products.  \n",
    "In this 64 categories, there are 24 categories with less than  \n",
    "10 images, 4 with 3 images or less. "
   ]
  },
  {
   "cell_type": "code",
   "execution_count": 65,
   "metadata": {
    "scrolled": true
   },
   "outputs": [
    {
     "data": {
      "image/png": "[encoded data removed]",
      "text/plain": [
       "<PIL.PngImagePlugin.PngImageFile image mode=RGBA size=150x150 at 0x7FF872D29320>"
      ]
     },
     "execution_count": 65,
     "metadata": {},
     "output_type": "execute_result"
    }
   ],
   "source": [
    "files = os.listdir(f'{PATH2}')\n",
    "fn = f'{PATH2}{files[301]}' \n",
    "Image.open(fn)"
   ]
  },
  {
   "cell_type": "markdown",
   "metadata": {},
   "source": [
    "Some of the products share similar attributes such as   \n",
    "necklace, ear-rings, rings and bracelets. \n",
    "\n",
    "This Fast.AI using ResNet50 started identifing styles of  \n",
    "brands and products from 31% leading up to 77% accuracy. \n",
    "\n",
    "Cloud computer and GPU sponsored by Google Cloud.  \n",
    "Fast.AI by Jeremy Howard and Rachel Thomas, the Data Institute, USFCA.  \n",
    "Yap Jia Qing, James Lee, Desmon, Yen Ping, Han Chong, Rou En, Hafid at Nurture.Ai.  \n",
    "Venue sponsorship by Mindvalley and NEXT Academy.  \n",
    "And my friends Choy Hon Yoong and Muhammad Danial bin Rusdi.\n",
    "\n",
    "This artificial intelligence was trained by Khoo on 16 March 2018.  \n",
    "\n",
    "### Thank you  "
   ]
  },
  {
   "cell_type": "markdown",
   "metadata": {},
   "source": [
    "#### Appendix  "
   ]
  },
  {
   "cell_type": "code",
   "execution_count": 61,
   "metadata": {
    "scrolled": false
   },
   "outputs": [
    {
     "data": {
      "text/plain": [
       "Sequential(\n",
       "  (0): Conv2d(3, 64, kernel_size=(7, 7), stride=(2, 2), padding=(3, 3), bias=False)\n",
       "  (1): BatchNorm2d(64, eps=1e-05, momentum=0.1, affine=True)\n",
       "  (2): ReLU(inplace)\n",
       "  (3): MaxPool2d(kernel_size=(3, 3), stride=(2, 2), padding=(1, 1), dilation=(1, 1), ceil_mode=False)\n",
       "  (4): Sequential(\n",
       "    (0): Bottleneck(\n",
       "      (conv1): Conv2d(64, 64, kernel_size=(1, 1), stride=(1, 1), bias=False)\n",
       "      (bn1): BatchNorm2d(64, eps=1e-05, momentum=0.1, affine=True)\n",
       "      (conv2): Conv2d(64, 64, kernel_size=(3, 3), stride=(1, 1), padding=(1, 1), bias=False)\n",
       "      (bn2): BatchNorm2d(64, eps=1e-05, momentum=0.1, affine=True)\n",
       "      (conv3): Conv2d(64, 256, kernel_size=(1, 1), stride=(1, 1), bias=False)\n",
       "      (bn3): BatchNorm2d(256, eps=1e-05, momentum=0.1, affine=True)\n",
       "      (relu): ReLU(inplace)\n",
       "      (downsample): Sequential(\n",
       "        (0): Conv2d(64, 256, kernel_size=(1, 1), stride=(1, 1), bias=False)\n",
       "        (1): BatchNorm2d(256, eps=1e-05, momentum=0.1, affine=True)\n",
       "      )\n",
       "    )\n",
       "    (1): Bottleneck(\n",
       "      (conv1): Conv2d(256, 64, kernel_size=(1, 1), stride=(1, 1), bias=False)\n",
       "      (bn1): BatchNorm2d(64, eps=1e-05, momentum=0.1, affine=True)\n",
       "      (conv2): Conv2d(64, 64, kernel_size=(3, 3), stride=(1, 1), padding=(1, 1), bias=False)\n",
       "      (bn2): BatchNorm2d(64, eps=1e-05, momentum=0.1, affine=True)\n",
       "      (conv3): Conv2d(64, 256, kernel_size=(1, 1), stride=(1, 1), bias=False)\n",
       "      (bn3): BatchNorm2d(256, eps=1e-05, momentum=0.1, affine=True)\n",
       "      (relu): ReLU(inplace)\n",
       "    )\n",
       "    (2): Bottleneck(\n",
       "      (conv1): Conv2d(256, 64, kernel_size=(1, 1), stride=(1, 1), bias=False)\n",
       "      (bn1): BatchNorm2d(64, eps=1e-05, momentum=0.1, affine=True)\n",
       "      (conv2): Conv2d(64, 64, kernel_size=(3, 3), stride=(1, 1), padding=(1, 1), bias=False)\n",
       "      (bn2): BatchNorm2d(64, eps=1e-05, momentum=0.1, affine=True)\n",
       "      (conv3): Conv2d(64, 256, kernel_size=(1, 1), stride=(1, 1), bias=False)\n",
       "      (bn3): BatchNorm2d(256, eps=1e-05, momentum=0.1, affine=True)\n",
       "      (relu): ReLU(inplace)\n",
       "    )\n",
       "  )\n",
       "  (5): Sequential(\n",
       "    (0): Bottleneck(\n",
       "      (conv1): Conv2d(256, 128, kernel_size=(1, 1), stride=(1, 1), bias=False)\n",
       "      (bn1): BatchNorm2d(128, eps=1e-05, momentum=0.1, affine=True)\n",
       "      (conv2): Conv2d(128, 128, kernel_size=(3, 3), stride=(2, 2), padding=(1, 1), bias=False)\n",
       "      (bn2): BatchNorm2d(128, eps=1e-05, momentum=0.1, affine=True)\n",
       "      (conv3): Conv2d(128, 512, kernel_size=(1, 1), stride=(1, 1), bias=False)\n",
       "      (bn3): BatchNorm2d(512, eps=1e-05, momentum=0.1, affine=True)\n",
       "      (relu): ReLU(inplace)\n",
       "      (downsample): Sequential(\n",
       "        (0): Conv2d(256, 512, kernel_size=(1, 1), stride=(2, 2), bias=False)\n",
       "        (1): BatchNorm2d(512, eps=1e-05, momentum=0.1, affine=True)\n",
       "      )\n",
       "    )\n",
       "    (1): Bottleneck(\n",
       "      (conv1): Conv2d(512, 128, kernel_size=(1, 1), stride=(1, 1), bias=False)\n",
       "      (bn1): BatchNorm2d(128, eps=1e-05, momentum=0.1, affine=True)\n",
       "      (conv2): Conv2d(128, 128, kernel_size=(3, 3), stride=(1, 1), padding=(1, 1), bias=False)\n",
       "      (bn2): BatchNorm2d(128, eps=1e-05, momentum=0.1, affine=True)\n",
       "      (conv3): Conv2d(128, 512, kernel_size=(1, 1), stride=(1, 1), bias=False)\n",
       "      (bn3): BatchNorm2d(512, eps=1e-05, momentum=0.1, affine=True)\n",
       "      (relu): ReLU(inplace)\n",
       "    )\n",
       "    (2): Bottleneck(\n",
       "      (conv1): Conv2d(512, 128, kernel_size=(1, 1), stride=(1, 1), bias=False)\n",
       "      (bn1): BatchNorm2d(128, eps=1e-05, momentum=0.1, affine=True)\n",
       "      (conv2): Conv2d(128, 128, kernel_size=(3, 3), stride=(1, 1), padding=(1, 1), bias=False)\n",
       "      (bn2): BatchNorm2d(128, eps=1e-05, momentum=0.1, affine=True)\n",
       "      (conv3): Conv2d(128, 512, kernel_size=(1, 1), stride=(1, 1), bias=False)\n",
       "      (bn3): BatchNorm2d(512, eps=1e-05, momentum=0.1, affine=True)\n",
       "      (relu): ReLU(inplace)\n",
       "    )\n",
       "    (3): Bottleneck(\n",
       "      (conv1): Conv2d(512, 128, kernel_size=(1, 1), stride=(1, 1), bias=False)\n",
       "      (bn1): BatchNorm2d(128, eps=1e-05, momentum=0.1, affine=True)\n",
       "      (conv2): Conv2d(128, 128, kernel_size=(3, 3), stride=(1, 1), padding=(1, 1), bias=False)\n",
       "      (bn2): BatchNorm2d(128, eps=1e-05, momentum=0.1, affine=True)\n",
       "      (conv3): Conv2d(128, 512, kernel_size=(1, 1), stride=(1, 1), bias=False)\n",
       "      (bn3): BatchNorm2d(512, eps=1e-05, momentum=0.1, affine=True)\n",
       "      (relu): ReLU(inplace)\n",
       "    )\n",
       "  )\n",
       "  (6): Sequential(\n",
       "    (0): Bottleneck(\n",
       "      (conv1): Conv2d(512, 256, kernel_size=(1, 1), stride=(1, 1), bias=False)\n",
       "      (bn1): BatchNorm2d(256, eps=1e-05, momentum=0.1, affine=True)\n",
       "      (conv2): Conv2d(256, 256, kernel_size=(3, 3), stride=(2, 2), padding=(1, 1), bias=False)\n",
       "      (bn2): BatchNorm2d(256, eps=1e-05, momentum=0.1, affine=True)\n",
       "      (conv3): Conv2d(256, 1024, kernel_size=(1, 1), stride=(1, 1), bias=False)\n",
       "      (bn3): BatchNorm2d(1024, eps=1e-05, momentum=0.1, affine=True)\n",
       "      (relu): ReLU(inplace)\n",
       "      (downsample): Sequential(\n",
       "        (0): Conv2d(512, 1024, kernel_size=(1, 1), stride=(2, 2), bias=False)\n",
       "        (1): BatchNorm2d(1024, eps=1e-05, momentum=0.1, affine=True)\n",
       "      )\n",
       "    )\n",
       "    (1): Bottleneck(\n",
       "      (conv1): Conv2d(1024, 256, kernel_size=(1, 1), stride=(1, 1), bias=False)\n",
       "      (bn1): BatchNorm2d(256, eps=1e-05, momentum=0.1, affine=True)\n",
       "      (conv2): Conv2d(256, 256, kernel_size=(3, 3), stride=(1, 1), padding=(1, 1), bias=False)\n",
       "      (bn2): BatchNorm2d(256, eps=1e-05, momentum=0.1, affine=True)\n",
       "      (conv3): Conv2d(256, 1024, kernel_size=(1, 1), stride=(1, 1), bias=False)\n",
       "      (bn3): BatchNorm2d(1024, eps=1e-05, momentum=0.1, affine=True)\n",
       "      (relu): ReLU(inplace)\n",
       "    )\n",
       "    (2): Bottleneck(\n",
       "      (conv1): Conv2d(1024, 256, kernel_size=(1, 1), stride=(1, 1), bias=False)\n",
       "      (bn1): BatchNorm2d(256, eps=1e-05, momentum=0.1, affine=True)\n",
       "      (conv2): Conv2d(256, 256, kernel_size=(3, 3), stride=(1, 1), padding=(1, 1), bias=False)\n",
       "      (bn2): BatchNorm2d(256, eps=1e-05, momentum=0.1, affine=True)\n",
       "      (conv3): Conv2d(256, 1024, kernel_size=(1, 1), stride=(1, 1), bias=False)\n",
       "      (bn3): BatchNorm2d(1024, eps=1e-05, momentum=0.1, affine=True)\n",
       "      (relu): ReLU(inplace)\n",
       "    )\n",
       "    (3): Bottleneck(\n",
       "      (conv1): Conv2d(1024, 256, kernel_size=(1, 1), stride=(1, 1), bias=False)\n",
       "      (bn1): BatchNorm2d(256, eps=1e-05, momentum=0.1, affine=True)\n",
       "      (conv2): Conv2d(256, 256, kernel_size=(3, 3), stride=(1, 1), padding=(1, 1), bias=False)\n",
       "      (bn2): BatchNorm2d(256, eps=1e-05, momentum=0.1, affine=True)\n",
       "      (conv3): Conv2d(256, 1024, kernel_size=(1, 1), stride=(1, 1), bias=False)\n",
       "      (bn3): BatchNorm2d(1024, eps=1e-05, momentum=0.1, affine=True)\n",
       "      (relu): ReLU(inplace)\n",
       "    )\n",
       "    (4): Bottleneck(\n",
       "      (conv1): Conv2d(1024, 256, kernel_size=(1, 1), stride=(1, 1), bias=False)\n",
       "      (bn1): BatchNorm2d(256, eps=1e-05, momentum=0.1, affine=True)\n",
       "      (conv2): Conv2d(256, 256, kernel_size=(3, 3), stride=(1, 1), padding=(1, 1), bias=False)\n",
       "      (bn2): BatchNorm2d(256, eps=1e-05, momentum=0.1, affine=True)\n",
       "      (conv3): Conv2d(256, 1024, kernel_size=(1, 1), stride=(1, 1), bias=False)\n",
       "      (bn3): BatchNorm2d(1024, eps=1e-05, momentum=0.1, affine=True)\n",
       "      (relu): ReLU(inplace)\n",
       "    )\n",
       "    (5): Bottleneck(\n",
       "      (conv1): Conv2d(1024, 256, kernel_size=(1, 1), stride=(1, 1), bias=False)\n",
       "      (bn1): BatchNorm2d(256, eps=1e-05, momentum=0.1, affine=True)\n",
       "      (conv2): Conv2d(256, 256, kernel_size=(3, 3), stride=(1, 1), padding=(1, 1), bias=False)\n",
       "      (bn2): BatchNorm2d(256, eps=1e-05, momentum=0.1, affine=True)\n",
       "      (conv3): Conv2d(256, 1024, kernel_size=(1, 1), stride=(1, 1), bias=False)\n",
       "      (bn3): BatchNorm2d(1024, eps=1e-05, momentum=0.1, affine=True)\n",
       "      (relu): ReLU(inplace)\n",
       "    )\n",
       "  )\n",
       "  (7): Sequential(\n",
       "    (0): Bottleneck(\n",
       "      (conv1): Conv2d(1024, 512, kernel_size=(1, 1), stride=(1, 1), bias=False)\n",
       "      (bn1): BatchNorm2d(512, eps=1e-05, momentum=0.1, affine=True)\n",
       "      (conv2): Conv2d(512, 512, kernel_size=(3, 3), stride=(2, 2), padding=(1, 1), bias=False)\n",
       "      (bn2): BatchNorm2d(512, eps=1e-05, momentum=0.1, affine=True)\n",
       "      (conv3): Conv2d(512, 2048, kernel_size=(1, 1), stride=(1, 1), bias=False)\n",
       "      (bn3): BatchNorm2d(2048, eps=1e-05, momentum=0.1, affine=True)\n",
       "      (relu): ReLU(inplace)\n",
       "      (downsample): Sequential(\n",
       "        (0): Conv2d(1024, 2048, kernel_size=(1, 1), stride=(2, 2), bias=False)\n",
       "        (1): BatchNorm2d(2048, eps=1e-05, momentum=0.1, affine=True)\n",
       "      )\n",
       "    )\n",
       "    (1): Bottleneck(\n",
       "      (conv1): Conv2d(2048, 512, kernel_size=(1, 1), stride=(1, 1), bias=False)\n",
       "      (bn1): BatchNorm2d(512, eps=1e-05, momentum=0.1, affine=True)\n",
       "      (conv2): Conv2d(512, 512, kernel_size=(3, 3), stride=(1, 1), padding=(1, 1), bias=False)\n",
       "      (bn2): BatchNorm2d(512, eps=1e-05, momentum=0.1, affine=True)\n",
       "      (conv3): Conv2d(512, 2048, kernel_size=(1, 1), stride=(1, 1), bias=False)\n",
       "      (bn3): BatchNorm2d(2048, eps=1e-05, momentum=0.1, affine=True)\n",
       "      (relu): ReLU(inplace)\n",
       "    )\n",
       "    (2): Bottleneck(\n",
       "      (conv1): Conv2d(2048, 512, kernel_size=(1, 1), stride=(1, 1), bias=False)\n",
       "      (bn1): BatchNorm2d(512, eps=1e-05, momentum=0.1, affine=True)\n",
       "      (conv2): Conv2d(512, 512, kernel_size=(3, 3), stride=(1, 1), padding=(1, 1), bias=False)\n",
       "      (bn2): BatchNorm2d(512, eps=1e-05, momentum=0.1, affine=True)\n",
       "      (conv3): Conv2d(512, 2048, kernel_size=(1, 1), stride=(1, 1), bias=False)\n",
       "      (bn3): BatchNorm2d(2048, eps=1e-05, momentum=0.1, affine=True)\n",
       "      (relu): ReLU(inplace)\n",
       "    )\n",
       "  )\n",
       "  (8): AdaptiveConcatPool2d(\n",
       "    (ap): AdaptiveAvgPool2d(output_size=(1, 1))\n",
       "    (mp): AdaptiveMaxPool2d(output_size=(1, 1))\n",
       "  )\n",
       "  (9): Flatten(\n",
       "  )\n",
       "  (10): BatchNorm1d(4096, eps=1e-05, momentum=0.1, affine=True)\n",
       "  (11): Dropout(p=0.2)\n",
       "  (12): Linear(in_features=4096, out_features=512, bias=True)\n",
       "  (13): ReLU()\n",
       "  (14): BatchNorm1d(512, eps=1e-05, momentum=0.1, affine=True)\n",
       "  (15): Dropout(p=0.5)\n",
       "  (16): Linear(in_features=512, out_features=23, bias=True)\n",
       "  (17): Sigmoid()\n",
       ")"
      ]
     },
     "execution_count": 61,
     "metadata": {},
     "output_type": "execute_result"
    }
   ],
   "source": [
    "learn "
   ]
  },
  {
   "cell_type": "markdown",
   "metadata": {},
   "source": [
    "#### Appendix 2"
   ]
  },
  {
   "cell_type": "code",
   "execution_count": null,
   "metadata": {},
   "outputs": [],
   "source": [
    "sz=128 \n",
    "data = get_data(sz)  \n",
    "x,_ = next(iter(data.aug_dl)) \n",
    "y = data.trn_ds.denorm(x)[1] \n",
    "ims = np.stack([y for i in range(6)]) \n",
    "learn = ConvLearner.pretrained(f_model, data, metrics=metrics) \n",
    "lr = 0.2 \n",
    "learn.fit(lrs, 2, cycle_len=3, cycle_mult=2)  "
   ]
  },
  {
   "cell_type": "markdown",
   "metadata": {},
   "source": [
    "= Epoch   100% 9/9 02:05<00:00, 13.92s/it  \n",
    "\n",
    "epoch      trn_loss   val_loss   f2                        \n",
    "    0      0.834306   0.737467   0.428988  c1  \n",
    "    1      0.837492   0.747909   0.428038                  \n",
    "    2      0.834613   0.731034   0.42929                   \n",
    "    3      0.834362   0.733282   0.42973   c2                 \n",
    "    4      0.830868   0.731053   0.427738                  \n",
    "    5      0.838683   0.737035   0.430071                  \n",
    "    6      0.826025   0.73112    0.429187                  \n",
    "    7      0.826086   0.739157   0.428044                  \n",
    "    8      0.832988   0.738455   0.430476                  \n",
    "\n",
    " 0.7384554, 0.43047622701031196 =. "
   ]
  },
  {
   "cell_type": "markdown",
   "metadata": {},
   "source": [
    "Floating on __Learning rate 0.2 __"
   ]
  },
  {
   "cell_type": "markdown",
   "metadata": {},
   "source": [
    "__End__"
   ]
  }
 ],
 "metadata": {
  "kernelspec": {
   "display_name": "Python 3",
   "language": "python",
   "name": "python3"
  },
  "language_info": {
   "codemirror_mode": {
    "name": "ipython",
    "version": 3
   },
   "file_extension": ".py",
   "mimetype": "text/x-python",
   "name": "python",
   "nbconvert_exporter": "python",
   "pygments_lexer": "ipython3",
   "version": "3.6.4"
  }
 },
 "nbformat": 4,
 "nbformat_minor": 2
}
