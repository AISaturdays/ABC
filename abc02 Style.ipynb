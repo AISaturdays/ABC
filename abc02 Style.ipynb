{
 "cells": [
  {
   "cell_type": "markdown",
   "metadata": {},
   "source": [
    "## Fast.AI Test Drive: Brand and Product Identifier"
   ]
  },
  {
   "cell_type": "markdown",
   "metadata": {},
   "source": [
    "'Style' data set by Olga Belitskaya hosted at Kaggle.com on 8 March 2018; \n",
    "wget https://www.kaggle.com/olgabelitskaya/style-color-images/downloads/style-color-images.zip"
   ]
  },
  {
   "cell_type": "code",
   "execution_count": 1,
   "metadata": {},
   "outputs": [],
   "source": [
    "%reload_ext autoreload\n",
    "%autoreload 2 \n",
    "%matplotlib inline"
   ]
  },
  {
   "cell_type": "code",
   "execution_count": 2,
   "metadata": {},
   "outputs": [],
   "source": [
    "from fastai.imports import * "
   ]
  },
  {
   "cell_type": "code",
   "execution_count": 3,
   "metadata": {},
   "outputs": [],
   "source": [
    "from fastai.conv_learner import *\n",
    "from fastai.transforms import * \n",
    "from fastai.model import * \n",
    "from fastai.dataset import * \n",
    "from fastai.sgdr import * \n",
    "from fastai.plots import * "
   ]
  },
  {
   "cell_type": "code",
   "execution_count": 4,
   "metadata": {},
   "outputs": [
    {
     "data": {
      "text/plain": [
       "True"
      ]
     },
     "execution_count": 4,
     "metadata": {},
     "output_type": "execute_result"
    }
   ],
   "source": [
    "torch.cuda.is_available()"
   ]
  },
  {
   "cell_type": "code",
   "execution_count": 5,
   "metadata": {},
   "outputs": [
    {
     "data": {
      "text/plain": [
       "True"
      ]
     },
     "execution_count": 5,
     "metadata": {},
     "output_type": "execute_result"
    }
   ],
   "source": [
    "torch.backends.cudnn.enabled"
   ]
  },
  {
   "cell_type": "markdown",
   "metadata": {},
   "source": [
    "### 1. Data Augmentation"
   ]
  },
  {
   "cell_type": "code",
   "execution_count": 6,
   "metadata": {},
   "outputs": [
    {
     "data": {
      "text/plain": [
       "['models',\n",
       " 'StyleColorImages.h5',\n",
       " 'train894',\n",
       " 'style.zip',\n",
       " 'styletags.csv',\n",
       " 'styleproduct.csv',\n",
       " 'test0',\n",
       " '.ipynb_checkpoints',\n",
       " 'stylebrand.csv',\n",
       " 'style.csv']"
      ]
     },
     "execution_count": 6,
     "metadata": {},
     "output_type": "execute_result"
    }
   ],
   "source": [
    "PATH = \"data/style/\" \n",
    "!rm -rf {PATH}tmp \n",
    "os.listdir(PATH)"
   ]
  },
  {
   "cell_type": "code",
   "execution_count": 7,
   "metadata": {},
   "outputs": [
    {
     "name": "stdout",
     "output_type": "stream",
     "text": [
      "Quantity of data: 894\n",
      "Data for validation: 178\n"
     ]
    }
   ],
   "source": [
    "label_csv = f'{PATH}styleproduct.csv'\n",
    "n = len(list(open(label_csv)))-1 \n",
    "val_idxs = get_cv_idxs(n)\n",
    "print('Quantity of data:',n), print('Data for validation:',len(val_idxs));"
   ]
  },
  {
   "cell_type": "code",
   "execution_count": 8,
   "metadata": {},
   "outputs": [
    {
     "name": "stdout",
     "output_type": "stream",
     "text": [
      "Sample content of StyleProduct.csv label file:\n"
     ]
    },
    {
     "data": {
      "text/html": [
       "<div>\n",
       "<style scoped>\n",
       "    .dataframe tbody tr th:only-of-type {\n",
       "        vertical-align: middle;\n",
       "    }\n",
       "\n",
       "    .dataframe tbody tr th {\n",
       "        vertical-align: top;\n",
       "    }\n",
       "\n",
       "    .dataframe thead th {\n",
       "        text-align: right;\n",
       "    }\n",
       "</style>\n",
       "<table border=\"1\" class=\"dataframe\">\n",
       "  <thead>\n",
       "    <tr style=\"text-align: right;\">\n",
       "      <th></th>\n",
       "      <th>file</th>\n",
       "      <th>product_name</th>\n",
       "    </tr>\n",
       "  </thead>\n",
       "  <tbody>\n",
       "    <tr>\n",
       "      <th>0</th>\n",
       "      <td>0_0_001.png</td>\n",
       "      <td>shoes</td>\n",
       "    </tr>\n",
       "    <tr>\n",
       "      <th>1</th>\n",
       "      <td>0_0_002.png</td>\n",
       "      <td>shoes</td>\n",
       "    </tr>\n",
       "    <tr>\n",
       "      <th>2</th>\n",
       "      <td>0_0_003.png</td>\n",
       "      <td>shoes</td>\n",
       "    </tr>\n",
       "    <tr>\n",
       "      <th>3</th>\n",
       "      <td>0_0_004.png</td>\n",
       "      <td>shoes</td>\n",
       "    </tr>\n",
       "    <tr>\n",
       "      <th>4</th>\n",
       "      <td>0_0_005.png</td>\n",
       "      <td>shoes</td>\n",
       "    </tr>\n",
       "  </tbody>\n",
       "</table>\n",
       "</div>"
      ],
      "text/plain": [
       "          file product_name\n",
       "0  0_0_001.png        shoes\n",
       "1  0_0_002.png        shoes\n",
       "2  0_0_003.png        shoes\n",
       "3  0_0_004.png        shoes\n",
       "4  0_0_005.png        shoes"
      ]
     },
     "execution_count": 8,
     "metadata": {},
     "output_type": "execute_result"
    }
   ],
   "source": [
    "label_df = pd.read_csv(label_csv) \n",
    "print('Sample content of StyleProduct.csv label file:')\n",
    "label_df.head()"
   ]
  },
  {
   "cell_type": "code",
   "execution_count": 9,
   "metadata": {},
   "outputs": [
    {
     "data": {
      "text/html": [
       "<div>\n",
       "<style scoped>\n",
       "    .dataframe tbody tr th:only-of-type {\n",
       "        vertical-align: middle;\n",
       "    }\n",
       "\n",
       "    .dataframe tbody tr th {\n",
       "        vertical-align: top;\n",
       "    }\n",
       "\n",
       "    .dataframe thead th {\n",
       "        text-align: right;\n",
       "    }\n",
       "</style>\n",
       "<table border=\"1\" class=\"dataframe\">\n",
       "  <thead>\n",
       "    <tr style=\"text-align: right;\">\n",
       "      <th></th>\n",
       "      <th>file</th>\n",
       "    </tr>\n",
       "    <tr>\n",
       "      <th>product_name</th>\n",
       "      <th></th>\n",
       "    </tr>\n",
       "  </thead>\n",
       "  <tbody>\n",
       "    <tr>\n",
       "      <th>necklace</th>\n",
       "      <td>48</td>\n",
       "    </tr>\n",
       "    <tr>\n",
       "      <th>bracelet</th>\n",
       "      <td>49</td>\n",
       "    </tr>\n",
       "    <tr>\n",
       "      <th>boots</th>\n",
       "      <td>60</td>\n",
       "    </tr>\n",
       "    <tr>\n",
       "      <th>nail polish</th>\n",
       "      <td>61</td>\n",
       "    </tr>\n",
       "    <tr>\n",
       "      <th>earrings</th>\n",
       "      <td>63</td>\n",
       "    </tr>\n",
       "    <tr>\n",
       "      <th>lipstick</th>\n",
       "      <td>66</td>\n",
       "    </tr>\n",
       "    <tr>\n",
       "      <th>watches</th>\n",
       "      <td>78</td>\n",
       "    </tr>\n",
       "    <tr>\n",
       "      <th>ring</th>\n",
       "      <td>88</td>\n",
       "    </tr>\n",
       "    <tr>\n",
       "      <th>shoes</th>\n",
       "      <td>188</td>\n",
       "    </tr>\n",
       "    <tr>\n",
       "      <th>handbag</th>\n",
       "      <td>193</td>\n",
       "    </tr>\n",
       "  </tbody>\n",
       "</table>\n",
       "</div>"
      ],
      "text/plain": [
       "              file\n",
       "product_name      \n",
       "necklace        48\n",
       "bracelet        49\n",
       "boots           60\n",
       "nail polish     61\n",
       "earrings        63\n",
       "lipstick        66\n",
       "watches         78\n",
       "ring            88\n",
       "shoes          188\n",
       "handbag        193"
      ]
     },
     "execution_count": 9,
     "metadata": {},
     "output_type": "execute_result"
    }
   ],
   "source": [
    "label_df.pivot_table(index='product_name', \n",
    "    aggfunc=len).sort_values('file', ascending=True)"
   ]
  },
  {
   "cell_type": "code",
   "execution_count": 10,
   "metadata": {},
   "outputs": [
    {
     "data": {
      "text/plain": [
       "896"
      ]
     },
     "execution_count": 10,
     "metadata": {},
     "output_type": "execute_result"
    }
   ],
   "source": [
    "PATH = 'data/style/train894/'\n",
    "len(os.listdir(PATH))"
   ]
  },
  {
   "cell_type": "code",
   "execution_count": 11,
   "metadata": {},
   "outputs": [
    {
     "data": {
      "text/plain": [
       "['2_1_006.png', '2_2_002.png', '2_0_011.png']"
      ]
     },
     "execution_count": 11,
     "metadata": {},
     "output_type": "execute_result"
    }
   ],
   "source": [
    "files = os.listdir(f'{PATH}')[:3] \n",
    "files"
   ]
  },
  {
   "cell_type": "code",
   "execution_count": 12,
   "metadata": {},
   "outputs": [
    {
     "data": {
      "image/png": "[encoded data removed]",
      "text/plain": [
       "<PIL.PngImagePlugin.PngImageFile image mode=RGBA size=150x150 at 0x7F896A223F28>"
      ]
     },
     "execution_count": 12,
     "metadata": {},
     "output_type": "execute_result"
    }
   ],
   "source": [
    "fn = f'{PATH}{files[0]}' \n",
    "Image.open(fn)"
   ]
  },
  {
   "cell_type": "code",
   "execution_count": 13,
   "metadata": {},
   "outputs": [
    {
     "data": {
      "text/plain": [
       "(150, 150)"
      ]
     },
     "execution_count": 13,
     "metadata": {},
     "output_type": "execute_result"
    }
   ],
   "source": [
    "img = PIL.Image.open(fn)\n",
    "img.size"
   ]
  },
  {
   "cell_type": "code",
   "execution_count": 14,
   "metadata": {},
   "outputs": [],
   "source": [
    "sz = 224 \n",
    "PATH2 = 'data/style/' \n",
    "bs = 8 \n",
    "arch = resnet34 \n",
    "tfms = tfms_from_model(arch, sz, aug_tfms=transforms_side_on, max_zoom=1.1)\n",
    "data = ImageClassifierData.from_csv(PATH2, 'train894', \n",
    "    f'data/style/styleproduct.csv', val_idxs=val_idxs, tfms=tfms, bs=bs)"
   ]
  },
  {
   "cell_type": "code",
   "execution_count": 15,
   "metadata": {},
   "outputs": [],
   "source": [
    "size_d = {k: PIL.Image.open(PATH2+k).size for k in data.trn_ds.fnames}"
   ]
  },
  {
   "cell_type": "code",
   "execution_count": 16,
   "metadata": {},
   "outputs": [
    {
     "data": {
      "text/plain": [
       "(array([150, 150, 150, 150, 150]), array([150, 150, 150, 150, 150]))"
      ]
     },
     "execution_count": 16,
     "metadata": {},
     "output_type": "execute_result"
    }
   ],
   "source": [
    "row_sz, col_sz = list(zip(*size_d.values())) \n",
    "row_sz=np.array(row_sz); col_sz=np.array(col_sz) \n",
    "row_sz[:5], col_sz[:5]"
   ]
  },
  {
   "cell_type": "code",
   "execution_count": 17,
   "metadata": {},
   "outputs": [
    {
     "data": {
      "image/png": "[encoded data removed]",
      "text/plain": [
       "<Figure size 432x288 with 1 Axes>"
      ]
     },
     "metadata": {},
     "output_type": "display_data"
    }
   ],
   "source": [
    "plt.hist(row_sz);"
   ]
  },
  {
   "cell_type": "code",
   "execution_count": 18,
   "metadata": {},
   "outputs": [
    {
     "data": {
      "image/png": "[encoded data removed]",
      "text/plain": [
       "<Figure size 432x288 with 1 Axes>"
      ]
     },
     "metadata": {},
     "output_type": "display_data"
    }
   ],
   "source": [
    "plt.hist(col_sz);"
   ]
  },
  {
   "cell_type": "code",
   "execution_count": 19,
   "metadata": {},
   "outputs": [
    {
     "data": {
      "text/plain": [
       "(array([  0.,   0.,   0.,   0.,   0., 715.,   0.,   0.,   0.,   0.]),\n",
       " array([149.5, 149.6, 149.7, 149.8, 149.9, 150. , 150.1, 150.2, 150.3, 150.4, 150.5]),\n",
       " <a list of 10 Patch objects>)"
      ]
     },
     "execution_count": 19,
     "metadata": {},
     "output_type": "execute_result"
    },
    {
     "data": {
      "image/png": "[encoded data removed]",
      "text/plain": [
       "<Figure size 432x288 with 1 Axes>"
      ]
     },
     "metadata": {},
     "output_type": "display_data"
    }
   ],
   "source": [
    "plt.hist(col_sz[row_sz])"
   ]
  },
  {
   "cell_type": "code",
   "execution_count": 20,
   "metadata": {},
   "outputs": [
    {
     "data": {
      "text/plain": [
       "716"
      ]
     },
     "execution_count": 20,
     "metadata": {},
     "output_type": "execute_result"
    }
   ],
   "source": [
    "len(data.trn_ds)"
   ]
  },
  {
   "cell_type": "code",
   "execution_count": 21,
   "metadata": {},
   "outputs": [
    {
     "data": {
      "text/plain": [
       "(11,\n",
       " ['boots',\n",
       "  'bracelet',\n",
       "  'earrings',\n",
       "  'handbag',\n",
       "  'lipstick',\n",
       "  'nail',\n",
       "  'necklace',\n",
       "  'polish',\n",
       "  'ring',\n",
       "  'shoes',\n",
       "  'watches'])"
      ]
     },
     "execution_count": 21,
     "metadata": {},
     "output_type": "execute_result"
    }
   ],
   "source": [
    "len(data.classes), data.classes #noted nail"
   ]
  },
  {
   "cell_type": "code",
   "execution_count": 22,
   "metadata": {},
   "outputs": [
    {
     "name": "stdout",
     "output_type": "stream",
     "text": [
      "100%|██████████| 179/179 [00:04<00:00, 38.61it/s]\n",
      "100%|██████████| 45/45 [00:01<00:00, 37.77it/s]\n"
     ]
    }
   ],
   "source": [
    "sz = 64 \n",
    "bs = 4 \n",
    "tfms = tfms_from_model(arch, sz, aug_tfms=transforms_side_on, max_zoom=1.1)\n",
    "data = ImageClassifierData.from_csv(PATH2, 'train894', \n",
    "    f'data/style/styleproduct.csv', val_idxs=val_idxs, tfms=tfms, bs=bs)\n",
    "learn = ConvLearner.pretrained(arch, data, precompute=True) "
   ]
  },
  {
   "cell_type": "code",
   "execution_count": 23,
   "metadata": {},
   "outputs": [
    {
     "data": {
      "application/vnd.jupyter.widget-view+json": {
       "model_id": "85bb8cb74a2f46c9ae6a99a9ba8bf8dc",
       "version_major": 2,
       "version_minor": 0
      },
      "text/html": [
       "<p>Failed to display Jupyter Widget of type <code>HBox</code>.</p>\n",
       "<p>\n",
       "  If you're reading this message in the Jupyter Notebook or JupyterLab Notebook, it may mean\n",
       "  that the widgets JavaScript is still loading. If this message persists, it\n",
       "  likely means that the widgets JavaScript library is either not installed or\n",
       "  not enabled. See the <a href=\"https://ipywidgets.readthedocs.io/en/stable/user_install.html\">Jupyter\n",
       "  Widgets Documentation</a> for setup instructions.\n",
       "</p>\n",
       "<p>\n",
       "  If you're reading this message in another frontend (for example, a static\n",
       "  rendering on GitHub or <a href=\"https://nbviewer.jupyter.org/\">NBViewer</a>),\n",
       "  it may mean that your frontend doesn't currently support widgets.\n",
       "</p>\n"
      ],
      "text/plain": [
       "HBox(children=(IntProgress(value=0, description='Epoch', max=3), HTML(value='')))"
      ]
     },
     "metadata": {},
     "output_type": "display_data"
    },
    {
     "name": "stdout",
     "output_type": "stream",
     "text": [
      "epoch      trn_loss   val_loss   <lambda>                     \n",
      "    0      0.363206   0.218049   0.940909  \n",
      "    1      0.215737   0.157879   0.942424                     \n",
      "    2      0.196565   0.14699    0.941919                     \n",
      "\n",
      "CPU times: user 3.09 s, sys: 626 ms, total: 3.71 s\n",
      "Wall time: 3.33 s\n"
     ]
    },
    {
     "data": {
      "text/plain": [
       "[0.14698951, 0.9419191943274604]"
      ]
     },
     "execution_count": 23,
     "metadata": {},
     "output_type": "execute_result"
    }
   ],
   "source": [
    "%time learn.fit(1e-2,3)"
   ]
  },
  {
   "cell_type": "markdown",
   "metadata": {},
   "source": [
    "= Epoch   100% 3/3 00:03<00:00, 1.11s/it\n",
    "\n",
    "epoch      trn_loss   val_loss   <lambda>                     \n",
    "    0      0.363206   0.218049   0.940909  \n",
    "    1      0.215737   0.157879   0.942424                     \n",
    "    2      0.196565   0.14699    0.941919                     \n",
    "\n",
    "CPU times: user 3.09 s, sys: 626 ms, total: 3.71 s\n",
    "Wall time: 3.33 s\n",
    "\n",
    "0.14698951, 0.9419191943274604 =."
   ]
  },
  {
   "cell_type": "markdown",
   "metadata": {},
   "source": [
    "### 2. Learning Rate Experiment"
   ]
  },
  {
   "cell_type": "code",
   "execution_count": 24,
   "metadata": {},
   "outputs": [
    {
     "data": {
      "application/vnd.jupyter.widget-view+json": {
       "model_id": "cd2614254b68446484ee5456f3da8eb8",
       "version_major": 2,
       "version_minor": 0
      },
      "text/html": [
       "<p>Failed to display Jupyter Widget of type <code>HBox</code>.</p>\n",
       "<p>\n",
       "  If you're reading this message in the Jupyter Notebook or JupyterLab Notebook, it may mean\n",
       "  that the widgets JavaScript is still loading. If this message persists, it\n",
       "  likely means that the widgets JavaScript library is either not installed or\n",
       "  not enabled. See the <a href=\"https://ipywidgets.readthedocs.io/en/stable/user_install.html\">Jupyter\n",
       "  Widgets Documentation</a> for setup instructions.\n",
       "</p>\n",
       "<p>\n",
       "  If you're reading this message in another frontend (for example, a static\n",
       "  rendering on GitHub or <a href=\"https://nbviewer.jupyter.org/\">NBViewer</a>),\n",
       "  it may mean that your frontend doesn't currently support widgets.\n",
       "</p>\n"
      ],
      "text/plain": [
       "HBox(children=(IntProgress(value=0, description='Epoch', max=1), HTML(value='')))"
      ]
     },
     "metadata": {},
     "output_type": "display_data"
    },
    {
     "name": "stdout",
     "output_type": "stream",
     "text": [
      " 84%|████████▍ | 151/179 [00:00<00:00, 192.13it/s, loss=0.675]\n",
      "CPU times: user 699 ms, sys: 171 ms, total: 870 ms            \n",
      "Wall time: 835 ms\n"
     ]
    }
   ],
   "source": [
    "%time lrf=learn.lr_find() "
   ]
  },
  {
   "cell_type": "code",
   "execution_count": 25,
   "metadata": {},
   "outputs": [
    {
     "data": {
      "image/png": "[encoded data removed]",
      "text/plain": [
       "<Figure size 432x288 with 1 Axes>"
      ]
     },
     "metadata": {},
     "output_type": "display_data"
    }
   ],
   "source": [
    "learn.sched.plot_lr()"
   ]
  },
  {
   "cell_type": "code",
   "execution_count": 26,
   "metadata": {},
   "outputs": [
    {
     "data": {
      "text/plain": [
       "179.0"
      ]
     },
     "execution_count": 26,
     "metadata": {},
     "output_type": "execute_result"
    }
   ],
   "source": [
    "len(data.trn_ds)/bs"
   ]
  },
  {
   "cell_type": "code",
   "execution_count": 27,
   "metadata": {},
   "outputs": [
    {
     "data": {
      "image/png": "[encoded data removed]",
      "text/plain": [
       "<Figure size 432x288 with 1 Axes>"
      ]
     },
     "metadata": {},
     "output_type": "display_data"
    }
   ],
   "source": [
    "learn.sched.plot()"
   ]
  },
  {
   "cell_type": "code",
   "execution_count": 28,
   "metadata": {},
   "outputs": [],
   "source": [
    "lr = 0.08 #1e-2 =0.01 "
   ]
  },
  {
   "cell_type": "markdown",
   "metadata": {},
   "source": [
    "### 3. Train last layer from precomputed weights for 2 epochs"
   ]
  },
  {
   "cell_type": "code",
   "execution_count": 29,
   "metadata": {},
   "outputs": [
    {
     "data": {
      "application/vnd.jupyter.widget-view+json": {
       "model_id": "9821ccc6098440ff92ad5e5d2f79c712",
       "version_major": 2,
       "version_minor": 0
      },
      "text/html": [
       "<p>Failed to display Jupyter Widget of type <code>HBox</code>.</p>\n",
       "<p>\n",
       "  If you're reading this message in the Jupyter Notebook or JupyterLab Notebook, it may mean\n",
       "  that the widgets JavaScript is still loading. If this message persists, it\n",
       "  likely means that the widgets JavaScript library is either not installed or\n",
       "  not enabled. See the <a href=\"https://ipywidgets.readthedocs.io/en/stable/user_install.html\">Jupyter\n",
       "  Widgets Documentation</a> for setup instructions.\n",
       "</p>\n",
       "<p>\n",
       "  If you're reading this message in another frontend (for example, a static\n",
       "  rendering on GitHub or <a href=\"https://nbviewer.jupyter.org/\">NBViewer</a>),\n",
       "  it may mean that your frontend doesn't currently support widgets.\n",
       "</p>\n"
      ],
      "text/plain": [
       "HBox(children=(IntProgress(value=0, description='Epoch', max=2), HTML(value='')))"
      ]
     },
     "metadata": {},
     "output_type": "display_data"
    },
    {
     "name": "stdout",
     "output_type": "stream",
     "text": [
      "epoch      trn_loss   val_loss   <lambda>                     \n",
      "    0      0.223379   0.153998   0.944444  \n",
      "    1      0.228503   0.165283   0.938384                     \n",
      "\n",
      "CPU times: user 1.54 s, sys: 372 ms, total: 1.92 s\n",
      "Wall time: 1.69 s\n"
     ]
    },
    {
     "data": {
      "text/plain": [
       "[0.16528252, 0.9383838454882304]"
      ]
     },
     "execution_count": 29,
     "metadata": {},
     "output_type": "execute_result"
    }
   ],
   "source": [
    "%time learn.fit(lr, 2)"
   ]
  },
  {
   "cell_type": "markdown",
   "metadata": {},
   "source": [
    "= Epoch   100% 2/2 00:01<00:00, 1.19it/s\n",
    "\n",
    "epoch      trn_loss   val_loss   <lambda>                     \n",
    "    0      0.223379   0.153998   0.944444  \n",
    "    1      0.228503   0.165283   0.938384                     \n",
    "\n",
    "CPU times: user 1.54 s, sys: 372 ms, total: 1.92 s\n",
    "Wall time: 1.69 s\n",
    "\n",
    " 0.16528252, 0.9383838454882304 =."
   ]
  },
  {
   "cell_type": "code",
   "execution_count": 30,
   "metadata": {},
   "outputs": [
    {
     "name": "stdout",
     "output_type": "stream",
     "text": [
      "100%|██████████| 90/90 [00:19<00:00,  4.72it/s]\n",
      "100%|██████████| 23/23 [00:04<00:00,  4.73it/s]\n"
     ]
    }
   ],
   "source": [
    "sz = 80\n",
    "bs = 8\n",
    "lr = 0.01\n",
    "tfms = tfms_from_model(arch, sz, aug_tfms=transforms_side_on, \n",
    "        max_zoom=1.1, pad=sz//8)\n",
    "data = ImageClassifierData.from_csv(PATH2, 'train894', \n",
    "    f'data/style/styleproduct.csv', val_idxs=val_idxs, tfms=tfms, bs=bs)\n",
    "learn = ConvLearner.pretrained(arch, data, precompute=True) "
   ]
  },
  {
   "cell_type": "code",
   "execution_count": 31,
   "metadata": {},
   "outputs": [
    {
     "data": {
      "application/vnd.jupyter.widget-view+json": {
       "model_id": "926aa827395646ddad85d4f4066f9a96",
       "version_major": 2,
       "version_minor": 0
      },
      "text/html": [
       "<p>Failed to display Jupyter Widget of type <code>HBox</code>.</p>\n",
       "<p>\n",
       "  If you're reading this message in the Jupyter Notebook or JupyterLab Notebook, it may mean\n",
       "  that the widgets JavaScript is still loading. If this message persists, it\n",
       "  likely means that the widgets JavaScript library is either not installed or\n",
       "  not enabled. See the <a href=\"https://ipywidgets.readthedocs.io/en/stable/user_install.html\">Jupyter\n",
       "  Widgets Documentation</a> for setup instructions.\n",
       "</p>\n",
       "<p>\n",
       "  If you're reading this message in another frontend (for example, a static\n",
       "  rendering on GitHub or <a href=\"https://nbviewer.jupyter.org/\">NBViewer</a>),\n",
       "  it may mean that your frontend doesn't currently support widgets.\n",
       "</p>\n"
      ],
      "text/plain": [
       "HBox(children=(IntProgress(value=0, description='Epoch', max=1), HTML(value='')))"
      ]
     },
     "metadata": {},
     "output_type": "display_data"
    },
    {
     "name": "stdout",
     "output_type": "stream",
     "text": [
      "epoch      trn_loss   val_loss   <lambda>                   \n",
      "    0      0.950371   5.308286   0.798419  \n",
      "\n",
      "CPU times: user 568 ms, sys: 142 ms, total: 710 ms\n",
      "Wall time: 610 ms\n"
     ]
    }
   ],
   "source": [
    "%time lrf=learn.lr_find() "
   ]
  },
  {
   "cell_type": "code",
   "execution_count": 32,
   "metadata": {},
   "outputs": [
    {
     "data": {
      "image/png": "[encoded data removed]",
      "text/plain": [
       "<Figure size 432x288 with 1 Axes>"
      ]
     },
     "metadata": {},
     "output_type": "display_data"
    }
   ],
   "source": [
    "learn.sched.plot()"
   ]
  },
  {
   "cell_type": "code",
   "execution_count": 34,
   "metadata": {},
   "outputs": [],
   "source": [
    "lr = 0.6"
   ]
  },
  {
   "cell_type": "code",
   "execution_count": 35,
   "metadata": {},
   "outputs": [
    {
     "data": {
      "application/vnd.jupyter.widget-view+json": {
       "model_id": "3f990fe739084d2888bd93b61973ad60",
       "version_major": 2,
       "version_minor": 0
      },
      "text/html": [
       "<p>Failed to display Jupyter Widget of type <code>HBox</code>.</p>\n",
       "<p>\n",
       "  If you're reading this message in the Jupyter Notebook or JupyterLab Notebook, it may mean\n",
       "  that the widgets JavaScript is still loading. If this message persists, it\n",
       "  likely means that the widgets JavaScript library is either not installed or\n",
       "  not enabled. See the <a href=\"https://ipywidgets.readthedocs.io/en/stable/user_install.html\">Jupyter\n",
       "  Widgets Documentation</a> for setup instructions.\n",
       "</p>\n",
       "<p>\n",
       "  If you're reading this message in another frontend (for example, a static\n",
       "  rendering on GitHub or <a href=\"https://nbviewer.jupyter.org/\">NBViewer</a>),\n",
       "  it may mean that your frontend doesn't currently support widgets.\n",
       "</p>\n"
      ],
      "text/plain": [
       "HBox(children=(IntProgress(value=0, description='Epoch', max=2), HTML(value='')))"
      ]
     },
     "metadata": {},
     "output_type": "display_data"
    },
    {
     "name": "stdout",
     "output_type": "stream",
     "text": [
      "epoch      trn_loss   val_loss   <lambda>                   \n",
      "    0      0.426289   0.217696   0.939229  \n",
      "    1      0.424443   0.26792    0.938735                   \n",
      "\n",
      "CPU times: user 1.14 s, sys: 267 ms, total: 1.41 s\n",
      "Wall time: 1.23 s\n"
     ]
    },
    {
     "data": {
      "text/plain": [
       "[0.26792014, 0.9387351818706678]"
      ]
     },
     "execution_count": 35,
     "metadata": {},
     "output_type": "execute_result"
    }
   ],
   "source": [
    "%time learn.fit(lr, 2)"
   ]
  },
  {
   "cell_type": "markdown",
   "metadata": {},
   "source": [
    "= Epoch   100% 2/2 00:01<00:00, 1.63it/s\n",
    "\n",
    "epoch      trn_loss   val_loss   <lambda>                   \n",
    "    0      0.426289   0.217696   0.939229  \n",
    "    1      0.424443   0.26792    0.938735                   \n",
    "\n",
    "CPU times: user 1.14 s, sys: 267 ms, total: 1.41 s\n",
    "Wall time: 1.23 s\n",
    "\n",
    "0.26792014, 0.9387351818706678 =. "
   ]
  },
  {
   "cell_type": "markdown",
   "metadata": {},
   "source": [
    "### 4. Drill in last layer"
   ]
  },
  {
   "cell_type": "code",
   "execution_count": 36,
   "metadata": {},
   "outputs": [
    {
     "data": {
      "application/vnd.jupyter.widget-view+json": {
       "model_id": "ef60f82fd0994398b869d672dc6811be",
       "version_major": 2,
       "version_minor": 0
      },
      "text/html": [
       "<p>Failed to display Jupyter Widget of type <code>HBox</code>.</p>\n",
       "<p>\n",
       "  If you're reading this message in the Jupyter Notebook or JupyterLab Notebook, it may mean\n",
       "  that the widgets JavaScript is still loading. If this message persists, it\n",
       "  likely means that the widgets JavaScript library is either not installed or\n",
       "  not enabled. See the <a href=\"https://ipywidgets.readthedocs.io/en/stable/user_install.html\">Jupyter\n",
       "  Widgets Documentation</a> for setup instructions.\n",
       "</p>\n",
       "<p>\n",
       "  If you're reading this message in another frontend (for example, a static\n",
       "  rendering on GitHub or <a href=\"https://nbviewer.jupyter.org/\">NBViewer</a>),\n",
       "  it may mean that your frontend doesn't currently support widgets.\n",
       "</p>\n"
      ],
      "text/plain": [
       "HBox(children=(IntProgress(value=0, description='Epoch', max=14), HTML(value='')))"
      ]
     },
     "metadata": {},
     "output_type": "display_data"
    },
    {
     "name": "stdout",
     "output_type": "stream",
     "text": [
      "epoch      trn_loss   val_loss   <lambda>                   \n",
      "    0      0.346677   0.1883     0.955534  \n",
      "    1      0.219557   0.120047   0.967391                   \n",
      "    2      0.312329   0.272365   0.94664                    \n",
      "    3      0.318658   0.199637   0.962945                   \n",
      "    4      0.234046   0.110547   0.972332                   \n",
      "    5      0.139773   0.111652   0.968379                   \n",
      "    6      0.288079   0.190046   0.964427                   \n",
      "    7      0.40196    0.238985   0.957016                   \n",
      "    8      0.427118   0.370071   0.954051                   \n",
      "    9      0.384313   0.273802   0.95504                    \n",
      "    10     0.300219   0.149907   0.961957                   \n",
      "    11     0.207256   0.197656   0.963439                   \n",
      "    12     0.154314   0.176451   0.967391                   \n",
      "    13     0.156673   0.163635   0.963439                   \n",
      "\n",
      "CPU times: user 7.43 s, sys: 1.88 s, total: 9.31 s\n",
      "Wall time: 7.97 s\n"
     ]
    },
    {
     "data": {
      "text/plain": [
       "[0.16363482, 0.963438736355823]"
      ]
     },
     "execution_count": 36,
     "metadata": {},
     "output_type": "execute_result"
    }
   ],
   "source": [
    "%time learn.fit(lr, 3, cycle_len=2, cycle_mult=2) "
   ]
  },
  {
   "cell_type": "markdown",
   "metadata": {},
   "source": [
    "= Epoch   100% 14/14 00:07<00:00, 1.76it/s\n",
    "\n",
    "epoch      trn_loss   val_loss   <lambda>                   \n",
    "    0      0.346677   0.1883     0.955534  \n",
    "    1      0.219557   0.120047   0.967391                   \n",
    "    2      0.312329   0.272365   0.94664                    \n",
    "    3      0.318658   0.199637   0.962945                   \n",
    "    4      0.234046   0.110547   0.972332                   \n",
    "    5      0.139773   0.111652   0.968379                   \n",
    "    6      0.288079   0.190046   0.964427                   \n",
    "    7      0.40196    0.238985   0.957016                   \n",
    "    8      0.427118   0.370071   0.954051                   \n",
    "    9      0.384313   0.273802   0.95504                    \n",
    "    10     0.300219   0.149907   0.961957                   \n",
    "    11     0.207256   0.197656   0.963439                   \n",
    "    12     0.154314   0.176451   0.967391                   \n",
    "    13     0.156673   0.163635   0.963439                   \n",
    "\n",
    "CPU times: user 7.43 s, sys: 1.88 s, total: 9.31 s\n",
    "Wall time: 7.97 s\n",
    "\n",
    "0.16363482, 0.963438736355823 =."
   ]
  },
  {
   "cell_type": "markdown",
   "metadata": {},
   "source": [
    "### 5. Unfreeze all layers"
   ]
  },
  {
   "cell_type": "code",
   "execution_count": 37,
   "metadata": {
    "scrolled": true
   },
   "outputs": [],
   "source": [
    "learn.unfreeze() \n",
    "learn.precompute=False "
   ]
  },
  {
   "cell_type": "markdown",
   "metadata": {},
   "source": [
    "### 6. Set early layers learning rate up to 3x lower "
   ]
  },
  {
   "cell_type": "code",
   "execution_count": 38,
   "metadata": {},
   "outputs": [
    {
     "data": {
      "application/vnd.jupyter.widget-view+json": {
       "model_id": "726d5b4f3cea4f3ab6ce10746773676b",
       "version_major": 2,
       "version_minor": 0
      },
      "text/html": [
       "<p>Failed to display Jupyter Widget of type <code>HBox</code>.</p>\n",
       "<p>\n",
       "  If you're reading this message in the Jupyter Notebook or JupyterLab Notebook, it may mean\n",
       "  that the widgets JavaScript is still loading. If this message persists, it\n",
       "  likely means that the widgets JavaScript library is either not installed or\n",
       "  not enabled. See the <a href=\"https://ipywidgets.readthedocs.io/en/stable/user_install.html\">Jupyter\n",
       "  Widgets Documentation</a> for setup instructions.\n",
       "</p>\n",
       "<p>\n",
       "  If you're reading this message in another frontend (for example, a static\n",
       "  rendering on GitHub or <a href=\"https://nbviewer.jupyter.org/\">NBViewer</a>),\n",
       "  it may mean that your frontend doesn't currently support widgets.\n",
       "</p>\n"
      ],
      "text/plain": [
       "HBox(children=(IntProgress(value=0, description='Epoch', max=14), HTML(value='')))"
      ]
     },
     "metadata": {},
     "output_type": "display_data"
    },
    {
     "name": "stdout",
     "output_type": "stream",
     "text": [
      "epoch      trn_loss   val_loss   <lambda>                  \n",
      "    0      0.349526   0.359484   0.949111  \n",
      "    1      0.274422   0.218669   0.957016                  \n",
      "    2      0.401824   0.243905   0.953557                  \n",
      "    3      0.392282   0.51677    0.94417                   \n",
      "    4      0.297713   0.382914   0.955534                  \n",
      "    5      0.238447   0.229018   0.965909                  \n",
      "    6      0.422464   0.458586   0.940217                  \n",
      "    7      0.57547    0.621988   0.914526                  \n",
      "    8      0.549183   0.369743   0.934289                  \n",
      "    9      0.408851   0.214423   0.960474                  \n",
      "    10     0.290511   0.138447   0.961957                  \n",
      "    11     0.213935   0.13233    0.958004                  \n",
      "    12     0.176884   0.180014   0.958004                  \n",
      "    13     0.163965   0.134584   0.962945                  \n",
      "\n",
      "CPU times: user 4min 19s, sys: 1min 36s, total: 5min 56s\n",
      "Wall time: 5min 35s\n"
     ]
    },
    {
     "data": {
      "text/plain": [
       "[0.13458382, 0.9629446656807609]"
      ]
     },
     "execution_count": 38,
     "metadata": {},
     "output_type": "execute_result"
    }
   ],
   "source": [
    "lrs = np.array([lr/3, lr/2, lr]) \n",
    "%time learn.fit(lrs, 3, cycle_len=2, cycle_mult=2) "
   ]
  },
  {
   "cell_type": "markdown",
   "metadata": {},
   "source": [
    "= Epoch   100% 14/14    05:35<00:00, 23.93s/it\n",
    "\n",
    "epoch      trn_loss   val_loss   <lambda>                  \n",
    "    0      0.349526   0.359484   0.949111 c1 \n",
    "    1      0.274422   0.218669   0.957016                  \n",
    "    2      0.401824   0.243905   0.953557 c2                 \n",
    "    3      0.392282   0.51677    0.94417                   \n",
    "    4      0.297713   0.382914   0.955534                  \n",
    "    5      0.238447   0.229018   0.965909                  \n",
    "    6      0.422464   0.458586   0.940217 c3                  \n",
    "    7      0.57547    0.621988   0.914526                  \n",
    "    8      0.549183   0.369743   0.934289                  \n",
    "    9      0.408851   0.214423   0.960474                  \n",
    "    10     0.290511   0.138447   0.961957                  \n",
    "    11     0.213935   0.13233    0.958004                  \n",
    "    12     0.176884   0.180014   0.958004                  \n",
    "    13     0.163965   0.134584   0.962945                  \n",
    "\n",
    "CPU times: user 4min 19s, sys: 1min 36s, total: 5min 56s\n",
    "Wall time: 5min 35s\n",
    "\n",
    "0.13458382, 0.9629446656807609 =. "
   ]
  },
  {
   "cell_type": "markdown",
   "metadata": {},
   "source": [
    "### 7. Learning Rate Augmentation "
   ]
  },
  {
   "cell_type": "code",
   "execution_count": 48,
   "metadata": {},
   "outputs": [],
   "source": [
    "sz = 112 \n",
    "tfms = tfms_from_model(arch, sz, aug_tfms=transforms_side_on, \n",
    "                        max_zoom=1.11, pad=sz//8)\n",
    "def get_augs(): \n",
    "    data = ImageClassifierData.from_csv(PATH2, 'train894', \n",
    "                                        f'data/style/styleproduct.csv', \n",
    "                                        val_idxs=val_idxs, tfms=tfms, bs=bs) \n",
    "    x,_ = next(iter(data.aug_dl)) \n",
    "    return data.trn_ds.denorm(x)[1] "
   ]
  },
  {
   "cell_type": "code",
   "execution_count": 49,
   "metadata": {},
   "outputs": [],
   "source": [
    "ims = np.stack([get_augs() for i in range(6)])\n",
    "learn.freeze() \n",
    "learn = ConvLearner.pretrained(arch, data, precompute=True) "
   ]
  },
  {
   "cell_type": "code",
   "execution_count": 50,
   "metadata": {},
   "outputs": [
    {
     "data": {
      "application/vnd.jupyter.widget-view+json": {
       "model_id": "8c91a35d13144d64827a29c58530f7a5",
       "version_major": 2,
       "version_minor": 0
      },
      "text/html": [
       "<p>Failed to display Jupyter Widget of type <code>HBox</code>.</p>\n",
       "<p>\n",
       "  If you're reading this message in the Jupyter Notebook or JupyterLab Notebook, it may mean\n",
       "  that the widgets JavaScript is still loading. If this message persists, it\n",
       "  likely means that the widgets JavaScript library is either not installed or\n",
       "  not enabled. See the <a href=\"https://ipywidgets.readthedocs.io/en/stable/user_install.html\">Jupyter\n",
       "  Widgets Documentation</a> for setup instructions.\n",
       "</p>\n",
       "<p>\n",
       "  If you're reading this message in another frontend (for example, a static\n",
       "  rendering on GitHub or <a href=\"https://nbviewer.jupyter.org/\">NBViewer</a>),\n",
       "  it may mean that your frontend doesn't currently support widgets.\n",
       "</p>\n"
      ],
      "text/plain": [
       "HBox(children=(IntProgress(value=0, description='Epoch', max=1), HTML(value='')))"
      ]
     },
     "metadata": {},
     "output_type": "display_data"
    },
    {
     "name": "stdout",
     "output_type": "stream",
     "text": [
      "epoch      trn_loss   val_loss   <lambda>                   \n",
      "    0      0.879766   6.35605    0.748024  \n",
      "\n"
     ]
    }
   ],
   "source": [
    "lrf=learn.lr_find()"
   ]
  },
  {
   "cell_type": "code",
   "execution_count": 51,
   "metadata": {},
   "outputs": [
    {
     "data": {
      "image/png": "[encoded data removed]",
      "text/plain": [
       "<Figure size 432x288 with 1 Axes>"
      ]
     },
     "metadata": {},
     "output_type": "display_data"
    }
   ],
   "source": [
    "learn.sched.plot() "
   ]
  },
  {
   "cell_type": "code",
   "execution_count": 52,
   "metadata": {},
   "outputs": [],
   "source": [
    "lr = 0.5"
   ]
  },
  {
   "cell_type": "code",
   "execution_count": 53,
   "metadata": {},
   "outputs": [
    {
     "data": {
      "application/vnd.jupyter.widget-view+json": {
       "model_id": "980116cec1fe4ec4a6fb93695d0ed98e",
       "version_major": 2,
       "version_minor": 0
      },
      "text/html": [
       "<p>Failed to display Jupyter Widget of type <code>HBox</code>.</p>\n",
       "<p>\n",
       "  If you're reading this message in the Jupyter Notebook or JupyterLab Notebook, it may mean\n",
       "  that the widgets JavaScript is still loading. If this message persists, it\n",
       "  likely means that the widgets JavaScript library is either not installed or\n",
       "  not enabled. See the <a href=\"https://ipywidgets.readthedocs.io/en/stable/user_install.html\">Jupyter\n",
       "  Widgets Documentation</a> for setup instructions.\n",
       "</p>\n",
       "<p>\n",
       "  If you're reading this message in another frontend (for example, a static\n",
       "  rendering on GitHub or <a href=\"https://nbviewer.jupyter.org/\">NBViewer</a>),\n",
       "  it may mean that your frontend doesn't currently support widgets.\n",
       "</p>\n"
      ],
      "text/plain": [
       "HBox(children=(IntProgress(value=0, description='Epoch', max=2), HTML(value='')))"
      ]
     },
     "metadata": {},
     "output_type": "display_data"
    },
    {
     "name": "stdout",
     "output_type": "stream",
     "text": [
      "epoch      trn_loss   val_loss   <lambda>                   \n",
      "    0      0.419875   0.229437   0.948123  \n",
      "    1      0.297987   0.167586   0.956522                   \n",
      "\n",
      "CPU times: user 940 ms, sys: 261 ms, total: 1.2 s\n",
      "Wall time: 1.05 s\n"
     ]
    },
    {
     "data": {
      "text/plain": [
       "[0.1675862, 0.956521741721941]"
      ]
     },
     "execution_count": 53,
     "metadata": {},
     "output_type": "execute_result"
    }
   ],
   "source": [
    "%time learn.fit(lr, 2) "
   ]
  },
  {
   "cell_type": "markdown",
   "metadata": {},
   "source": [
    "= Epoch   100% 2/2    00:01<00:00, 1.92it/s\n",
    "\n",
    "epoch      trn_loss   val_loss   <lambda>                   \n",
    "    0      0.419875   0.229437   0.948123  \n",
    "    1      0.297987   0.167586   0.956522                   \n",
    "\n",
    "CPU times: user 940 ms, sys: 261 ms, total: 1.2 s\n",
    "Wall time: 1.05 s\n",
    "\n",
    " 0.1675862, 0.956521741721941 =."
   ]
  },
  {
   "cell_type": "code",
   "execution_count": 54,
   "metadata": {},
   "outputs": [],
   "source": [
    "learn.unfreeze()"
   ]
  },
  {
   "cell_type": "markdown",
   "metadata": {},
   "source": [
    "### 8. Train full network into over-fitting (Loss: Training > Validation)"
   ]
  },
  {
   "cell_type": "code",
   "execution_count": 55,
   "metadata": {},
   "outputs": [
    {
     "data": {
      "application/vnd.jupyter.widget-view+json": {
       "model_id": "4ccf99926639401dbc8b7044a2c6904e",
       "version_major": 2,
       "version_minor": 0
      },
      "text/html": [
       "<p>Failed to display Jupyter Widget of type <code>HBox</code>.</p>\n",
       "<p>\n",
       "  If you're reading this message in the Jupyter Notebook or JupyterLab Notebook, it may mean\n",
       "  that the widgets JavaScript is still loading. If this message persists, it\n",
       "  likely means that the widgets JavaScript library is either not installed or\n",
       "  not enabled. See the <a href=\"https://ipywidgets.readthedocs.io/en/stable/user_install.html\">Jupyter\n",
       "  Widgets Documentation</a> for setup instructions.\n",
       "</p>\n",
       "<p>\n",
       "  If you're reading this message in another frontend (for example, a static\n",
       "  rendering on GitHub or <a href=\"https://nbviewer.jupyter.org/\">NBViewer</a>),\n",
       "  it may mean that your frontend doesn't currently support widgets.\n",
       "</p>\n"
      ],
      "text/plain": [
       "HBox(children=(IntProgress(value=0, description='Epoch', max=14), HTML(value='')))"
      ]
     },
     "metadata": {},
     "output_type": "display_data"
    },
    {
     "name": "stdout",
     "output_type": "stream",
     "text": [
      "epoch      trn_loss   val_loss   <lambda>                  \n",
      "    0      0.243958   0.159491   0.956522  \n",
      "    1      0.169745   0.115074   0.963933                  \n",
      "    2      0.216098   0.148599   0.952569                  \n",
      "    3      0.21294    0.110981   0.959486                  \n",
      "    4      0.181713   0.094524   0.965909                  \n",
      "    5      0.139989   0.093498   0.965415                  \n",
      "    6      0.199006   0.165615   0.945158                  \n",
      "    7      0.23835    0.134804   0.960474                  \n",
      "    8      0.230056   0.134526   0.953557                  \n",
      "    9      0.195473   0.094308   0.964921                  \n",
      "    10     0.1523     0.07768    0.967885                  \n",
      "    11     0.119896   0.075757   0.970356                  \n",
      "    12     0.10463    0.076996   0.971838                   \n",
      "    13     0.103204   0.076321   0.972826                  \n",
      "\n",
      "CPU times: user 4min 24s, sys: 1min 39s, total: 6min 4s\n",
      "Wall time: 5min 43s\n"
     ]
    },
    {
     "data": {
      "text/plain": [
       "[0.07632064, 0.9728260895480281]"
      ]
     },
     "execution_count": 55,
     "metadata": {},
     "output_type": "execute_result"
    }
   ],
   "source": [
    "%time learn.fit(lr, 3, cycle_len=2, cycle_mult=2)"
   ]
  },
  {
   "cell_type": "markdown",
   "metadata": {},
   "source": [
    "= Epoch   100% 14/14   05:43<00:00, 24.53s/it \n",
    "\n",
    "epoch      trn_loss   val_loss   <lambda>                  \n",
    "    0      0.243958   0.159491   0.956522  \n",
    "    1      0.169745   0.115074   0.963933                  \n",
    "    2      0.216098   0.148599   0.952569                  \n",
    "    3      0.21294    0.110981   0.959486                  \n",
    "    4      0.181713   0.094524   0.965909                  \n",
    "    5      0.139989   0.093498   0.965415                  \n",
    "    6      0.199006   0.165615   0.945158                  \n",
    "    7      0.23835    0.134804   0.960474                  \n",
    "    8      0.230056   0.134526   0.953557                  \n",
    "    9      0.195473   0.094308   0.964921                  \n",
    "    10     0.1523     0.07768    0.967885                  \n",
    "    11     0.119896   0.075757   0.970356                  \n",
    "    12     0.10463    0.076996   0.971838                   \n",
    "    13     0.103204   0.076321   0.972826                  \n",
    "\n",
    "CPU times: user 4min 24s, sys: 1min 39s, total: 6min 4s\n",
    "Wall time: 5min 43s\n",
    "\n",
    " 0.07632064, 0.9728260895480281 =. "
   ]
  },
  {
   "cell_type": "code",
   "execution_count": 56,
   "metadata": {},
   "outputs": [],
   "source": [
    "learn.save('112_style')"
   ]
  },
  {
   "cell_type": "code",
   "execution_count": 57,
   "metadata": {},
   "outputs": [],
   "source": [
    "learn.load('112_style')"
   ]
  },
  {
   "cell_type": "code",
   "execution_count": 59,
   "metadata": {},
   "outputs": [],
   "source": [
    "sz = 144 \n",
    "tfms = tfms_from_model(arch, sz, aug_tfms=transforms_side_on, \n",
    "                        max_zoom=1.11, pad=sz//8)\n",
    "ims = np.stack([get_augs() for i in range(6)])\n",
    "learn.freeze() \n",
    "lrs = np.array([lr*9, lr*3, lr]) "
   ]
  },
  {
   "cell_type": "code",
   "execution_count": 61,
   "metadata": {},
   "outputs": [
    {
     "data": {
      "application/vnd.jupyter.widget-view+json": {
       "model_id": "674ddec0c7ea41679a634db4806c4276",
       "version_major": 2,
       "version_minor": 0
      },
      "text/html": [
       "<p>Failed to display Jupyter Widget of type <code>HBox</code>.</p>\n",
       "<p>\n",
       "  If you're reading this message in the Jupyter Notebook or JupyterLab Notebook, it may mean\n",
       "  that the widgets JavaScript is still loading. If this message persists, it\n",
       "  likely means that the widgets JavaScript library is either not installed or\n",
       "  not enabled. See the <a href=\"https://ipywidgets.readthedocs.io/en/stable/user_install.html\">Jupyter\n",
       "  Widgets Documentation</a> for setup instructions.\n",
       "</p>\n",
       "<p>\n",
       "  If you're reading this message in another frontend (for example, a static\n",
       "  rendering on GitHub or <a href=\"https://nbviewer.jupyter.org/\">NBViewer</a>),\n",
       "  it may mean that your frontend doesn't currently support widgets.\n",
       "</p>\n"
      ],
      "text/plain": [
       "HBox(children=(IntProgress(value=0, description='Epoch', max=14), HTML(value='')))"
      ]
     },
     "metadata": {},
     "output_type": "display_data"
    },
    {
     "name": "stdout",
     "output_type": "stream",
     "text": [
      "epoch      trn_loss   val_loss   <lambda>                   \n",
      "    0      0.127684   0.08809    0.969368  \n",
      "    1      0.117745   0.081414   0.971838                  \n",
      "    2      0.145087   0.108656   0.967391                  \n",
      "    3      0.177344   0.110184   0.963933                  \n",
      "    4      0.141962   0.089825   0.972826                  \n",
      "    5      0.105618   0.08905    0.969368                  \n",
      "    6      0.159656   0.112466   0.967391                  \n",
      "    7      0.218745   0.129617   0.960968                  \n",
      "    8      0.202301   0.144952   0.962451                  \n",
      "    9      0.168143   0.128476   0.967391                  \n",
      "    10     0.157809   0.087549   0.969862                  \n",
      "    11     0.129888   0.07073    0.972332                  \n",
      "    12     0.089692   0.080659   0.968874                   \n",
      "    13     0.091077   0.078092   0.971344                   \n",
      "\n",
      "CPU times: user 4min 19s, sys: 1min 37s, total: 5min 56s\n",
      "Wall time: 5min 35s\n"
     ]
    },
    {
     "data": {
      "text/plain": [
       "[0.078092486, 0.9713438749313354]"
      ]
     },
     "execution_count": 61,
     "metadata": {},
     "output_type": "execute_result"
    }
   ],
   "source": [
    "%time learn.fit(lrs, 3, cycle_len=2, cycle_mult=2)"
   ]
  },
  {
   "cell_type": "markdown",
   "metadata": {},
   "source": [
    "Final two trainings presents loss of 0.07 and accuracy 97% \n",
    "\n",
    "= Epoch   100% 14/14   05:35<00:00, 23.96s/it \n",
    "\n",
    "epoch      trn_loss   val_loss   <lambda>                   \n",
    "    0      0.127684   0.08809    0.969368  \n",
    "    1      0.117745   0.081414   0.971838                  \n",
    "    2      0.145087   0.108656   0.967391                  \n",
    "    3      0.177344   0.110184   0.963933                  \n",
    "    4      0.141962   0.089825   0.972826                  \n",
    "    5      0.105618   0.08905    0.969368                  \n",
    "    6      0.159656   0.112466   0.967391                  \n",
    "    7      0.218745   0.129617   0.960968                  \n",
    "    8      0.202301   0.144952   0.962451                  \n",
    "    9      0.168143   0.128476   0.967391                  \n",
    "    10     0.157809   0.087549   0.969862                  \n",
    "    11     0.129888   0.07073    0.972332                  \n",
    "    12     0.089692   0.080659   0.968874                   \n",
    "    13     0.091077   0.078092   0.971344                   \n",
    "\n",
    "CPU times: user 4min 19s, sys: 1min 37s, total: 5min 56s\n",
    "Wall time: 5min 35s\n",
    "\n",
    " 0.078092486, 0.9713438749313354 =.\n"
   ]
  },
  {
   "cell_type": "markdown",
   "metadata": {},
   "source": [
    "### 9. Review"
   ]
  },
  {
   "cell_type": "code",
   "execution_count": 62,
   "metadata": {},
   "outputs": [
    {
     "name": "stdout",
     "output_type": "stream",
     "text": [
      "                                             \r"
     ]
    }
   ],
   "source": [
    "multi_preds, y = learn.TTA()\n",
    "preds = np.mean(multi_preds, 0)\n",
    "probs = np.mean(np.exp(preds),0)"
   ]
  },
  {
   "cell_type": "code",
   "execution_count": 63,
   "metadata": {},
   "outputs": [
    {
     "data": {
      "text/plain": [
       "array([1.11123, 1.03541, 1.05582, 1.37896, 1.11451, 1.10762, 1.08639, 1.10782, 1.08904, 1.34572, 1.12057],\n",
       "      dtype=float32)"
      ]
     },
     "execution_count": 63,
     "metadata": {},
     "output_type": "execute_result"
    }
   ],
   "source": [
    "probs"
   ]
  },
  {
   "cell_type": "code",
   "execution_count": 64,
   "metadata": {},
   "outputs": [
    {
     "data": {
      "text/plain": [
       "array([[0.     , 0.00006, 0.00003, ..., 0.00126, 0.99927, 0.     ],\n",
       "       [0.00777, 0.00125, 0.0218 , ..., 0.00039, 0.94615, 0.00002],\n",
       "       [0.03888, 0.00045, 0.00189, ..., 0.00137, 0.93948, 0.     ],\n",
       "       ...,\n",
       "       [0.98935, 0.00014, 0.00215, ..., 0.     , 0.00016, 0.00001],\n",
       "       [0.0112 , 0.01061, 0.02435, ..., 0.04131, 0.00707, 0.00287],\n",
       "       [0.01082, 0.00454, 0.05569, ..., 0.00337, 0.01098, 0.00019]], dtype=float32)"
      ]
     },
     "execution_count": 64,
     "metadata": {},
     "output_type": "execute_result"
    }
   ],
   "source": [
    "preds"
   ]
  },
  {
   "cell_type": "code",
   "execution_count": 65,
   "metadata": {},
   "outputs": [
    {
     "data": {
      "image/png": "[encoded data removed]",
      "text/plain": [
       "<Figure size 432x288 with 1 Axes>"
      ]
     },
     "metadata": {},
     "output_type": "display_data"
    }
   ],
   "source": [
    "files = os.listdir(f'{PATH}')[:895]\n",
    "item = 301\n",
    "plt.imshow(plt.imread(f'{PATH}{files[item]}'));"
   ]
  },
  {
   "cell_type": "code",
   "execution_count": 66,
   "metadata": {},
   "outputs": [
    {
     "data": {
      "image/png": "[encoded data removed]",
      "text/plain": [
       "<Figure size 432x288 with 1 Axes>"
      ]
     },
     "metadata": {},
     "output_type": "display_data"
    }
   ],
   "source": [
    "item = 300; plt.imshow(plt.imread(f'{PATH}{files[item]}'));"
   ]
  },
  {
   "cell_type": "code",
   "execution_count": 67,
   "metadata": {},
   "outputs": [
    {
     "data": {
      "image/png": "[encoded data removed]",
      "text/plain": [
       "<Figure size 432x288 with 1 Axes>"
      ]
     },
     "metadata": {},
     "output_type": "display_data"
    }
   ],
   "source": [
    "item = 200; plt.imshow(plt.imread(f'{PATH}{files[item]}')); "
   ]
  },
  {
   "cell_type": "markdown",
   "metadata": {},
   "source": [
    "Could an average man identify necklace vs braclet, or ring vs ear rings  from two dimension image size 150 x 150 pixels without any misses? \n",
    "\n",
    "This Fast.AI using ResNet34 can identify products and accessories with up to 97% accuracy. \n",
    "\n",
    "Cloud computer and GPU sponsored by Google Cloud.  \n",
    "Fast.AI by Jeremy Howard and Rachel Thomas, the Data Institute, USFCA.  \n",
    "Yap Jia Qing, James Lee, Desmon, Yen Ping, Han Chong, Rou En, Hafid at Nurture.Ai.  \n",
    "Venue sponsorship by Mindvalley and NEXT Academy.  \n",
    "And my friends Choy Hon Yoong and Muhammad Danial bin Rusdi.  \n",
    "\n",
    "This artificial intelligence was trained by Khoo Kah Chin on 8 March 2018.  "
   ]
  },
  {
   "cell_type": "markdown",
   "metadata": {},
   "source": [
    "# Thank you to the sponsors and organizers."
   ]
  }
 ],
 "metadata": {
  "kernelspec": {
   "display_name": "Python 3",
   "language": "python",
   "name": "python3"
  },
  "language_info": {
   "codemirror_mode": {
    "name": "ipython",
    "version": 3
   },
   "file_extension": ".py",
   "mimetype": "text/x-python",
   "name": "python",
   "nbconvert_exporter": "python",
   "pygments_lexer": "ipython3",
   "version": "3.6.4"
  }
 },
 "nbformat": 4,
 "nbformat_minor": 2
}
